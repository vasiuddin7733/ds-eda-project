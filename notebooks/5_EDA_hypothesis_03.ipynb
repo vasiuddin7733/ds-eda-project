{
 "cells": [
  {
   "cell_type": "markdown",
   "id": "05fbd7d7",
   "metadata": {},
   "source": [
    "<h1 style='color:crimson'> Client-Focused Research Questions, Hypotheses 3, and Indicators (Jennifer Montgomery)</h1>"
   ]
  },
  {
   "cell_type": "markdown",
   "id": "f8e185f4",
   "metadata": {},
   "source": [
    "<h2 style='color:darkblue'>Hypothesis 3:</h2>\n",
    "\n",
    " High-end waterfront houses sold within the last 12 months have appreciated faster than similar non-waterfront homes"
   ]
  },
  {
   "cell_type": "markdown",
   "id": "944df440",
   "metadata": {},
   "source": [
    "💡 Statement: High-end waterfront homes sold within the last 12 months have appreciated faster than similar non-waterfront homes."
   ]
  },
  {
   "cell_type": "markdown",
   "id": "18e19d41",
   "metadata": {},
   "source": [
    "Why It Matters: \n",
    "\n",
    "Since Jennifer plans to resell within a year, this hypothesis will tell her whether waterfront homes have had better short-term value growth, which could influence her decision."
   ]
  },
  {
   "cell_type": "markdown",
   "id": "1d9ebbef",
   "metadata": {},
   "source": [
    "Indicators:\n",
    "\n",
    " 💸 Looking for a high-budget investment\n",
    "\n",
    "📆 Planning to resell within a year\n",
    "\n",
    "🌊 Interested in possibly purchasing a waterfront property"
   ]
  },
  {
   "cell_type": "markdown",
   "id": "bdc581e2",
   "metadata": {},
   "source": [
    "<h2 style='color:darkblue'>Testing Methods:</h2>\n",
    "\n",
    "Compare Price per Sqft Over Time (Waterfront vs. Non-Waterfront): Track the price changes per square foot for waterfront homes compared to non-waterfront homes over the last 12 months.\n",
    "\n",
    "Line Plot of Monthly Average Sale Prices: Visualize trends in sale prices for both waterfront and non-waterfront homes over time.\n",
    "\n",
    "% Increase from Historical Averages: Calculate the percentage increase in prices from historical averages for both waterfront and non-waterfront homes to see which has appreciated faster."
   ]
  },
  {
   "cell_type": "markdown",
   "id": "b761ffea",
   "metadata": {},
   "source": [
    "<h3 style='color:seagreen'>Import packages </h3>"
   ]
  },
  {
   "cell_type": "code",
   "execution_count": 1,
   "id": "bce77c80",
   "metadata": {},
   "outputs": [],
   "source": [
    "import pandas as pd\n",
    "import seaborn as sns\n",
    "import matplotlib.pyplot as plt"
   ]
  },
  {
   "cell_type": "markdown",
   "id": "86e60550",
   "metadata": {},
   "source": [
    "<h3 style='color:seagreen'>Fetch data from king country house table without empty data(hypothesis 1)</h3>"
   ]
  },
  {
   "cell_type": "code",
   "execution_count": 2,
   "id": "30b4ea3d",
   "metadata": {},
   "outputs": [],
   "source": [
    "# Load your dataset\n",
    "df_houses = pd.read_csv('../data/king_country_house_data_index_false_filter.csv')"
   ]
  },
  {
   "cell_type": "markdown",
   "id": "0d014149",
   "metadata": {},
   "source": [
    "<h3 style='color:seagreen'>🔹 Question: </h3>\n",
    "\n",
    "Which houses were sold in the last 12 months?\n"
   ]
  },
  {
   "cell_type": "markdown",
   "id": "5fc2b1bd",
   "metadata": {},
   "source": [
    "Your main hypothesis isn’t just about price levels — it's about appreciation over time, particularly:"
   ]
  },
  {
   "cell_type": "markdown",
   "id": "37d42cc4",
   "metadata": {},
   "source": [
    "Do high-end waterfront homes appreciate faster than non-waterfront homes?\n",
    "\n",
    "So next, you should look at price trends over the past 12 months — especially price per square foot."
   ]
  },
  {
   "cell_type": "markdown",
   "id": "afccb093",
   "metadata": {},
   "source": [
    " Analytical Approach\n",
    "Filter for the Last 12 Months using the date column.\n",
    "\n",
    "Calculate Price per Sqft (for standardization across property sizes).\n",
    "\n",
    "Compare Monthly Trends using a line plot for:\n",
    "\n",
    "Waterfront vs Non-Waterfront\n",
    "\n",
    "Check Appreciation Rates with:\n",
    "\n",
    "% increase in average price per sqft between first and last month.\n",
    "\n",
    "Optional: Use Grade ≥ 9 as a filter to compare only high-end homes.\n",
    "\n",
    "Distribution Fit Check:\n",
    "\n",
    "See whether appreciation follows a normal, log-normal, or skewed distribution using histogram or KDE plot."
   ]
  },
  {
   "cell_type": "markdown",
   "id": "21a6365e",
   "metadata": {},
   "source": [
    "Filter for Last 12 Months of Sales"
   ]
  },
  {
   "cell_type": "code",
   "execution_count": 14,
   "id": "1b4ca44e",
   "metadata": {},
   "outputs": [],
   "source": [
    "recent_sales = df_houses[df_houses['date'] >= '2015-04-01']"
   ]
  },
  {
   "cell_type": "markdown",
   "id": "5b8844c1",
   "metadata": {},
   "source": [
    "<h3 style='color:seagreen'> Create a Price per Square Foot Column</h3>"
   ]
  },
  {
   "cell_type": "code",
   "execution_count": 4,
   "id": "cd6ccfd3",
   "metadata": {},
   "outputs": [
    {
     "name": "stderr",
     "output_type": "stream",
     "text": [
      "/tmp/ipykernel_750397/535290848.py:1: SettingWithCopyWarning: \n",
      "A value is trying to be set on a copy of a slice from a DataFrame.\n",
      "Try using .loc[row_indexer,col_indexer] = value instead\n",
      "\n",
      "See the caveats in the documentation: https://pandas.pydata.org/pandas-docs/stable/user_guide/indexing.html#returning-a-view-versus-a-copy\n",
      "  recent_sales['price_per_sqft'] = recent_sales['price'] / recent_sales['sqft_living']\n"
     ]
    }
   ],
   "source": [
    "recent_sales['price_per_sqft'] = recent_sales['price'] / recent_sales['sqft_living']"
   ]
  },
  {
   "cell_type": "markdown",
   "id": "aafa738c",
   "metadata": {},
   "source": [
    "Optional: Filter for High-End Homes (Grade ≥ 9)"
   ]
  },
  {
   "cell_type": "code",
   "execution_count": 5,
   "id": "bf4c9175",
   "metadata": {},
   "outputs": [
    {
     "data": {
      "text/html": [
       "<div>\n",
       "<style scoped>\n",
       "    .dataframe tbody tr th:only-of-type {\n",
       "        vertical-align: middle;\n",
       "    }\n",
       "\n",
       "    .dataframe tbody tr th {\n",
       "        vertical-align: top;\n",
       "    }\n",
       "\n",
       "    .dataframe thead th {\n",
       "        text-align: right;\n",
       "    }\n",
       "</style>\n",
       "<table border=\"1\" class=\"dataframe\">\n",
       "  <thead>\n",
       "    <tr style=\"text-align: right;\">\n",
       "      <th></th>\n",
       "      <th>Unnamed: 0</th>\n",
       "      <th>id</th>\n",
       "      <th>bedrooms</th>\n",
       "      <th>bathrooms</th>\n",
       "      <th>sqft_living</th>\n",
       "      <th>sqft_lot</th>\n",
       "      <th>floors</th>\n",
       "      <th>waterfront</th>\n",
       "      <th>view</th>\n",
       "      <th>condition</th>\n",
       "      <th>...</th>\n",
       "      <th>lat</th>\n",
       "      <th>long</th>\n",
       "      <th>sqft_living15</th>\n",
       "      <th>sqft_lot15</th>\n",
       "      <th>date</th>\n",
       "      <th>price</th>\n",
       "      <th>renovated</th>\n",
       "      <th>waterfront_status</th>\n",
       "      <th>grade_category</th>\n",
       "      <th>price_per_sqft</th>\n",
       "    </tr>\n",
       "  </thead>\n",
       "  <tbody>\n",
       "    <tr>\n",
       "      <th>153</th>\n",
       "      <td>153</td>\n",
       "      <td>7855801670</td>\n",
       "      <td>4.0</td>\n",
       "      <td>3.25</td>\n",
       "      <td>5180.0</td>\n",
       "      <td>19850.0</td>\n",
       "      <td>2.0</td>\n",
       "      <td>0.0</td>\n",
       "      <td>3.0</td>\n",
       "      <td>3</td>\n",
       "      <td>...</td>\n",
       "      <td>47.5620</td>\n",
       "      <td>-122.162</td>\n",
       "      <td>3160.0</td>\n",
       "      <td>9750.0</td>\n",
       "      <td>2015-04-01</td>\n",
       "      <td>2250000.0</td>\n",
       "      <td>Not Renovated</td>\n",
       "      <td>Non-Waterfront</td>\n",
       "      <td>High (8+)</td>\n",
       "      <td>434.362934</td>\n",
       "    </tr>\n",
       "    <tr>\n",
       "      <th>269</th>\n",
       "      <td>269</td>\n",
       "      <td>7960900060</td>\n",
       "      <td>4.0</td>\n",
       "      <td>3.25</td>\n",
       "      <td>5050.0</td>\n",
       "      <td>20100.0</td>\n",
       "      <td>1.5</td>\n",
       "      <td>0.0</td>\n",
       "      <td>2.0</td>\n",
       "      <td>3</td>\n",
       "      <td>...</td>\n",
       "      <td>47.6312</td>\n",
       "      <td>-122.223</td>\n",
       "      <td>3890.0</td>\n",
       "      <td>20060.0</td>\n",
       "      <td>2015-05-04</td>\n",
       "      <td>2900000.0</td>\n",
       "      <td>Not Renovated</td>\n",
       "      <td>Non-Waterfront</td>\n",
       "      <td>High (8+)</td>\n",
       "      <td>574.257426</td>\n",
       "    </tr>\n",
       "    <tr>\n",
       "      <th>282</th>\n",
       "      <td>282</td>\n",
       "      <td>7424700045</td>\n",
       "      <td>5.0</td>\n",
       "      <td>3.00</td>\n",
       "      <td>3830.0</td>\n",
       "      <td>8480.0</td>\n",
       "      <td>2.0</td>\n",
       "      <td>0.0</td>\n",
       "      <td>1.0</td>\n",
       "      <td>5</td>\n",
       "      <td>...</td>\n",
       "      <td>47.6166</td>\n",
       "      <td>-122.287</td>\n",
       "      <td>3050.0</td>\n",
       "      <td>7556.0</td>\n",
       "      <td>2015-05-13</td>\n",
       "      <td>2050000.0</td>\n",
       "      <td>Renovated</td>\n",
       "      <td>Non-Waterfront</td>\n",
       "      <td>High (8+)</td>\n",
       "      <td>535.248042</td>\n",
       "    </tr>\n",
       "    <tr>\n",
       "      <th>450</th>\n",
       "      <td>450</td>\n",
       "      <td>4055700030</td>\n",
       "      <td>3.0</td>\n",
       "      <td>4.50</td>\n",
       "      <td>3970.0</td>\n",
       "      <td>24920.0</td>\n",
       "      <td>2.0</td>\n",
       "      <td>0.0</td>\n",
       "      <td>2.0</td>\n",
       "      <td>3</td>\n",
       "      <td>...</td>\n",
       "      <td>47.7183</td>\n",
       "      <td>-122.258</td>\n",
       "      <td>2610.0</td>\n",
       "      <td>13838.0</td>\n",
       "      <td>2015-05-02</td>\n",
       "      <td>1450000.0</td>\n",
       "      <td>Not Renovated</td>\n",
       "      <td>Non-Waterfront</td>\n",
       "      <td>High (8+)</td>\n",
       "      <td>365.239295</td>\n",
       "    </tr>\n",
       "    <tr>\n",
       "      <th>484</th>\n",
       "      <td>484</td>\n",
       "      <td>2625069070</td>\n",
       "      <td>4.0</td>\n",
       "      <td>3.25</td>\n",
       "      <td>4860.0</td>\n",
       "      <td>181319.0</td>\n",
       "      <td>2.5</td>\n",
       "      <td>0.0</td>\n",
       "      <td>0.0</td>\n",
       "      <td>3</td>\n",
       "      <td>...</td>\n",
       "      <td>47.6179</td>\n",
       "      <td>-122.005</td>\n",
       "      <td>3850.0</td>\n",
       "      <td>181319.0</td>\n",
       "      <td>2015-04-10</td>\n",
       "      <td>1390000.0</td>\n",
       "      <td>Not Renovated</td>\n",
       "      <td>Non-Waterfront</td>\n",
       "      <td>High (8+)</td>\n",
       "      <td>286.008230</td>\n",
       "    </tr>\n",
       "    <tr>\n",
       "      <th>...</th>\n",
       "      <td>...</td>\n",
       "      <td>...</td>\n",
       "      <td>...</td>\n",
       "      <td>...</td>\n",
       "      <td>...</td>\n",
       "      <td>...</td>\n",
       "      <td>...</td>\n",
       "      <td>...</td>\n",
       "      <td>...</td>\n",
       "      <td>...</td>\n",
       "      <td>...</td>\n",
       "      <td>...</td>\n",
       "      <td>...</td>\n",
       "      <td>...</td>\n",
       "      <td>...</td>\n",
       "      <td>...</td>\n",
       "      <td>...</td>\n",
       "      <td>...</td>\n",
       "      <td>...</td>\n",
       "      <td>...</td>\n",
       "      <td>...</td>\n",
       "    </tr>\n",
       "    <tr>\n",
       "      <th>21514</th>\n",
       "      <td>21514</td>\n",
       "      <td>8964800330</td>\n",
       "      <td>4.0</td>\n",
       "      <td>3.75</td>\n",
       "      <td>5090.0</td>\n",
       "      <td>14823.0</td>\n",
       "      <td>1.0</td>\n",
       "      <td>0.0</td>\n",
       "      <td>0.0</td>\n",
       "      <td>3</td>\n",
       "      <td>...</td>\n",
       "      <td>47.6200</td>\n",
       "      <td>-122.207</td>\n",
       "      <td>3030.0</td>\n",
       "      <td>12752.0</td>\n",
       "      <td>2015-04-07</td>\n",
       "      <td>3000000.0</td>\n",
       "      <td>Not Renovated</td>\n",
       "      <td>Non-Waterfront</td>\n",
       "      <td>High (8+)</td>\n",
       "      <td>589.390963</td>\n",
       "    </tr>\n",
       "    <tr>\n",
       "      <th>21537</th>\n",
       "      <td>21537</td>\n",
       "      <td>2522059251</td>\n",
       "      <td>3.0</td>\n",
       "      <td>2.50</td>\n",
       "      <td>2050.0</td>\n",
       "      <td>15035.0</td>\n",
       "      <td>2.0</td>\n",
       "      <td>0.0</td>\n",
       "      <td>0.0</td>\n",
       "      <td>3</td>\n",
       "      <td>...</td>\n",
       "      <td>47.3619</td>\n",
       "      <td>-122.122</td>\n",
       "      <td>1300.0</td>\n",
       "      <td>15836.0</td>\n",
       "      <td>2015-04-09</td>\n",
       "      <td>465000.0</td>\n",
       "      <td>Not Renovated</td>\n",
       "      <td>Non-Waterfront</td>\n",
       "      <td>High (8+)</td>\n",
       "      <td>226.829268</td>\n",
       "    </tr>\n",
       "    <tr>\n",
       "      <th>21546</th>\n",
       "      <td>21546</td>\n",
       "      <td>2122059216</td>\n",
       "      <td>4.0</td>\n",
       "      <td>2.50</td>\n",
       "      <td>2930.0</td>\n",
       "      <td>5973.0</td>\n",
       "      <td>2.0</td>\n",
       "      <td>0.0</td>\n",
       "      <td>0.0</td>\n",
       "      <td>3</td>\n",
       "      <td>...</td>\n",
       "      <td>47.3846</td>\n",
       "      <td>-122.186</td>\n",
       "      <td>3038.0</td>\n",
       "      <td>7095.0</td>\n",
       "      <td>2015-04-14</td>\n",
       "      <td>422000.0</td>\n",
       "      <td>Not Renovated</td>\n",
       "      <td>Non-Waterfront</td>\n",
       "      <td>High (8+)</td>\n",
       "      <td>144.027304</td>\n",
       "    </tr>\n",
       "    <tr>\n",
       "      <th>21565</th>\n",
       "      <td>21565</td>\n",
       "      <td>7853420110</td>\n",
       "      <td>3.0</td>\n",
       "      <td>3.00</td>\n",
       "      <td>2780.0</td>\n",
       "      <td>6000.0</td>\n",
       "      <td>2.0</td>\n",
       "      <td>0.0</td>\n",
       "      <td>0.0</td>\n",
       "      <td>3</td>\n",
       "      <td>...</td>\n",
       "      <td>47.5184</td>\n",
       "      <td>-121.886</td>\n",
       "      <td>2850.0</td>\n",
       "      <td>6000.0</td>\n",
       "      <td>2015-05-04</td>\n",
       "      <td>625000.0</td>\n",
       "      <td>Not Renovated</td>\n",
       "      <td>Non-Waterfront</td>\n",
       "      <td>High (8+)</td>\n",
       "      <td>224.820144</td>\n",
       "    </tr>\n",
       "    <tr>\n",
       "      <th>21581</th>\n",
       "      <td>21581</td>\n",
       "      <td>191100405</td>\n",
       "      <td>4.0</td>\n",
       "      <td>3.25</td>\n",
       "      <td>3410.0</td>\n",
       "      <td>10125.0</td>\n",
       "      <td>2.0</td>\n",
       "      <td>0.0</td>\n",
       "      <td>0.0</td>\n",
       "      <td>3</td>\n",
       "      <td>...</td>\n",
       "      <td>47.5653</td>\n",
       "      <td>-122.223</td>\n",
       "      <td>2290.0</td>\n",
       "      <td>10125.0</td>\n",
       "      <td>2015-04-21</td>\n",
       "      <td>1580000.0</td>\n",
       "      <td>Not Renovated</td>\n",
       "      <td>Non-Waterfront</td>\n",
       "      <td>High (8+)</td>\n",
       "      <td>463.343109</td>\n",
       "    </tr>\n",
       "  </tbody>\n",
       "</table>\n",
       "<p>520 rows × 26 columns</p>\n",
       "</div>"
      ],
      "text/plain": [
       "       Unnamed: 0          id  bedrooms  bathrooms  sqft_living  sqft_lot  \\\n",
       "153           153  7855801670       4.0       3.25       5180.0   19850.0   \n",
       "269           269  7960900060       4.0       3.25       5050.0   20100.0   \n",
       "282           282  7424700045       5.0       3.00       3830.0    8480.0   \n",
       "450           450  4055700030       3.0       4.50       3970.0   24920.0   \n",
       "484           484  2625069070       4.0       3.25       4860.0  181319.0   \n",
       "...           ...         ...       ...        ...          ...       ...   \n",
       "21514       21514  8964800330       4.0       3.75       5090.0   14823.0   \n",
       "21537       21537  2522059251       3.0       2.50       2050.0   15035.0   \n",
       "21546       21546  2122059216       4.0       2.50       2930.0    5973.0   \n",
       "21565       21565  7853420110       3.0       3.00       2780.0    6000.0   \n",
       "21581       21581   191100405       4.0       3.25       3410.0   10125.0   \n",
       "\n",
       "       floors  waterfront  view  condition  ...      lat     long  \\\n",
       "153       2.0         0.0   3.0          3  ...  47.5620 -122.162   \n",
       "269       1.5         0.0   2.0          3  ...  47.6312 -122.223   \n",
       "282       2.0         0.0   1.0          5  ...  47.6166 -122.287   \n",
       "450       2.0         0.0   2.0          3  ...  47.7183 -122.258   \n",
       "484       2.5         0.0   0.0          3  ...  47.6179 -122.005   \n",
       "...       ...         ...   ...        ...  ...      ...      ...   \n",
       "21514     1.0         0.0   0.0          3  ...  47.6200 -122.207   \n",
       "21537     2.0         0.0   0.0          3  ...  47.3619 -122.122   \n",
       "21546     2.0         0.0   0.0          3  ...  47.3846 -122.186   \n",
       "21565     2.0         0.0   0.0          3  ...  47.5184 -121.886   \n",
       "21581     2.0         0.0   0.0          3  ...  47.5653 -122.223   \n",
       "\n",
       "       sqft_living15  sqft_lot15        date      price      renovated  \\\n",
       "153           3160.0      9750.0  2015-04-01  2250000.0  Not Renovated   \n",
       "269           3890.0     20060.0  2015-05-04  2900000.0  Not Renovated   \n",
       "282           3050.0      7556.0  2015-05-13  2050000.0      Renovated   \n",
       "450           2610.0     13838.0  2015-05-02  1450000.0  Not Renovated   \n",
       "484           3850.0    181319.0  2015-04-10  1390000.0  Not Renovated   \n",
       "...              ...         ...         ...        ...            ...   \n",
       "21514         3030.0     12752.0  2015-04-07  3000000.0  Not Renovated   \n",
       "21537         1300.0     15836.0  2015-04-09   465000.0  Not Renovated   \n",
       "21546         3038.0      7095.0  2015-04-14   422000.0  Not Renovated   \n",
       "21565         2850.0      6000.0  2015-05-04   625000.0  Not Renovated   \n",
       "21581         2290.0     10125.0  2015-04-21  1580000.0  Not Renovated   \n",
       "\n",
       "       waterfront_status  grade_category  price_per_sqft  \n",
       "153       Non-Waterfront       High (8+)      434.362934  \n",
       "269       Non-Waterfront       High (8+)      574.257426  \n",
       "282       Non-Waterfront       High (8+)      535.248042  \n",
       "450       Non-Waterfront       High (8+)      365.239295  \n",
       "484       Non-Waterfront       High (8+)      286.008230  \n",
       "...                  ...             ...             ...  \n",
       "21514     Non-Waterfront       High (8+)      589.390963  \n",
       "21537     Non-Waterfront       High (8+)      226.829268  \n",
       "21546     Non-Waterfront       High (8+)      144.027304  \n",
       "21565     Non-Waterfront       High (8+)      224.820144  \n",
       "21581     Non-Waterfront       High (8+)      463.343109  \n",
       "\n",
       "[520 rows x 26 columns]"
      ]
     },
     "execution_count": 5,
     "metadata": {},
     "output_type": "execute_result"
    }
   ],
   "source": [
    "high_end_sales = recent_sales[recent_sales['grade'] >= 9]\n",
    "high_end_sales"
   ]
  },
  {
   "cell_type": "markdown",
   "id": "ecceab86",
   "metadata": {},
   "source": [
    "4. Group by Month and Waterfront Status"
   ]
  },
  {
   "cell_type": "code",
   "execution_count": null,
   "id": "33d1c6bb",
   "metadata": {},
   "outputs": [
    {
     "name": "stdout",
     "output_type": "stream",
     "text": [
      "NaT values in 'date': 0\n",
      "          date    month\n",
      "153 2015-04-01  2015-04\n",
      "269 2015-05-04  2015-05\n",
      "282 2015-05-13  2015-05\n",
      "450 2015-05-02  2015-05\n",
      "484 2015-04-10  2015-04\n"
     ]
    },
    {
     "name": "stderr",
     "output_type": "stream",
     "text": [
      "/tmp/ipykernel_750397/120429060.py:2: SettingWithCopyWarning: \n",
      "A value is trying to be set on a copy of a slice from a DataFrame.\n",
      "Try using .loc[row_indexer,col_indexer] = value instead\n",
      "\n",
      "See the caveats in the documentation: https://pandas.pydata.org/pandas-docs/stable/user_guide/indexing.html#returning-a-view-versus-a-copy\n",
      "  high_end_sales['date'] = pd.to_datetime(high_end_sales['date'], errors='coerce')\n",
      "/tmp/ipykernel_750397/120429060.py:8: SettingWithCopyWarning: \n",
      "A value is trying to be set on a copy of a slice from a DataFrame.\n",
      "Try using .loc[row_indexer,col_indexer] = value instead\n",
      "\n",
      "See the caveats in the documentation: https://pandas.pydata.org/pandas-docs/stable/user_guide/indexing.html#returning-a-view-versus-a-copy\n",
      "  high_end_sales['month'] = high_end_sales['date'].dt.to_period('M')\n"
     ]
    }
   ],
   "source": [
    "# Step 1: Ensure 'date' is in datetime format\n",
    "high_end_sales['date'] = pd.to_datetime(high_end_sales['date'], errors='coerce')\n",
    "\n",
    "# Step 2: Check for any NaT values (in case of bad date strings)\n",
    "print(\"NaT values in 'date':\", high_end_sales['date'].isna().sum())\n",
    "\n",
    "# Step 3: Create 'month' column safely\n",
    "high_end_sales['month'] = high_end_sales['date'].dt.to_period('M')\n",
    "\n",
    "# Step 4: Confirm it's created\n",
    "print(high_end_sales[['date', 'month']].head())\n"
   ]
  },
  {
   "cell_type": "code",
   "execution_count": 10,
   "id": "9a50c831",
   "metadata": {},
   "outputs": [
    {
     "name": "stderr",
     "output_type": "stream",
     "text": [
      "/tmp/ipykernel_750397/4169791918.py:1: SettingWithCopyWarning: \n",
      "A value is trying to be set on a copy of a slice from a DataFrame.\n",
      "Try using .loc[row_indexer,col_indexer] = value instead\n",
      "\n",
      "See the caveats in the documentation: https://pandas.pydata.org/pandas-docs/stable/user_guide/indexing.html#returning-a-view-versus-a-copy\n",
      "  high_end_sales['month'] = high_end_sales['date'].dt.to_period('M')\n"
     ]
    }
   ],
   "source": [
    "high_end_sales['month'] = high_end_sales['date'].dt.to_period('M')\n",
    "monthly_avg = high_end_sales.groupby(['month', 'waterfront'])['price_per_sqft'].mean().reset_index()\n",
    "monthly_avg['month'] = monthly_avg['month'].astype(str)"
   ]
  },
  {
   "cell_type": "markdown",
   "id": "900ac1c4",
   "metadata": {},
   "source": [
    "Line Plot to Visualize Trends"
   ]
  },
  {
   "cell_type": "code",
   "execution_count": 11,
   "id": "daa9235a",
   "metadata": {},
   "outputs": [
    {
     "data": {
      "image/png": "[encoded data removed]",
      "text/plain": [
       "<Figure size 1200x600 with 1 Axes>"
      ]
     },
     "metadata": {},
     "output_type": "display_data"
    }
   ],
   "source": [
    "plt.figure(figsize=(12, 6))\n",
    "sns.lineplot(data=monthly_avg, x='month', y='price_per_sqft', hue='waterfront')\n",
    "plt.title('Price per Sqft Trend (Waterfront vs Non-Waterfront)')\n",
    "plt.xlabel('Month')\n",
    "plt.ylabel('Average Price per Sqft')\n",
    "plt.xticks(rotation=45)\n",
    "plt.legend(title='Waterfront')\n",
    "plt.tight_layout()\n",
    "plt.show()\n"
   ]
  },
  {
   "cell_type": "markdown",
   "id": "7b273642",
   "metadata": {},
   "source": [
    "<h3 style='color:seagreen'>Calculate % Appreciation</h3>"
   ]
  },
  {
   "cell_type": "code",
   "execution_count": 12,
   "id": "539c3685",
   "metadata": {},
   "outputs": [
    {
     "data": {
      "text/html": [
       "<div>\n",
       "<style scoped>\n",
       "    .dataframe tbody tr th:only-of-type {\n",
       "        vertical-align: middle;\n",
       "    }\n",
       "\n",
       "    .dataframe tbody tr th {\n",
       "        vertical-align: top;\n",
       "    }\n",
       "\n",
       "    .dataframe thead th {\n",
       "        text-align: right;\n",
       "    }\n",
       "</style>\n",
       "<table border=\"1\" class=\"dataframe\">\n",
       "  <thead>\n",
       "    <tr style=\"text-align: right;\">\n",
       "      <th></th>\n",
       "      <th>first_month</th>\n",
       "      <th>last_month</th>\n",
       "      <th>pct_change</th>\n",
       "    </tr>\n",
       "    <tr>\n",
       "      <th>waterfront</th>\n",
       "      <th></th>\n",
       "      <th></th>\n",
       "      <th></th>\n",
       "    </tr>\n",
       "  </thead>\n",
       "  <tbody>\n",
       "    <tr>\n",
       "      <th>0.0</th>\n",
       "      <td>296.852071</td>\n",
       "      <td>321.600508</td>\n",
       "      <td>8.33696</td>\n",
       "    </tr>\n",
       "    <tr>\n",
       "      <th>1.0</th>\n",
       "      <td>587.926875</td>\n",
       "      <td>587.926875</td>\n",
       "      <td>0.00000</td>\n",
       "    </tr>\n",
       "  </tbody>\n",
       "</table>\n",
       "</div>"
      ],
      "text/plain": [
       "            first_month  last_month  pct_change\n",
       "waterfront                                     \n",
       "0.0          296.852071  321.600508     8.33696\n",
       "1.0          587.926875  587.926875     0.00000"
      ]
     },
     "execution_count": 12,
     "metadata": {},
     "output_type": "execute_result"
    }
   ],
   "source": [
    "appreciation = monthly_avg.groupby('waterfront').agg(\n",
    "    first_month=('price_per_sqft', 'first'),\n",
    "    last_month=('price_per_sqft', 'last')\n",
    ")\n",
    "appreciation['pct_change'] = ((appreciation['last_month'] - appreciation['first_month']) / appreciation['first_month']) * 100\n",
    "appreciation\n"
   ]
  },
  {
   "cell_type": "markdown",
   "id": "aa4898f8",
   "metadata": {},
   "source": [
    "Optional: Distribution Check (e.g., KDE)\n"
   ]
  },
  {
   "cell_type": "code",
   "execution_count": 13,
   "id": "23cbab66",
   "metadata": {},
   "outputs": [
    {
     "data": {
      "image/png": "[encoded data removed]",
      "text/plain": [
       "<Figure size 1000x500 with 1 Axes>"
      ]
     },
     "metadata": {},
     "output_type": "display_data"
    }
   ],
   "source": [
    "plt.figure(figsize=(10, 5))\n",
    "sns.kdeplot(data=high_end_sales, x='price_per_sqft', hue='waterfront', fill=True, common_norm=False)\n",
    "plt.title('Distribution of Price per Sqft (High-End Homes)')\n",
    "plt.xlabel('Price per Sqft')\n",
    "plt.show()\n"
   ]
  },
  {
   "cell_type": "markdown",
   "id": "434a1187",
   "metadata": {},
   "source": [
    "<h3 style='color:seagreen'>📌 Interpretation Hints:</h3>\n",
    "\n",
    "\n",
    "If waterfront homes show a noticeably higher % increase in price per sqft than non-waterfront homes, your hypothesis holds.\n",
    "\n",
    "The KDE plot helps check if outliers or skewness could be impacting your appreciation numbers."
   ]
  },
  {
   "cell_type": "markdown",
   "id": "a57d6f98",
   "metadata": {},
   "source": [
    "➡️ Waterfront homes appreciated nearly twice as fast in just 12 months.\n",
    "\n",
    "📈 Trendline Analysis:\n",
    "The line plot of monthly average price/sqft shows a consistent upward curve for waterfront properties.\n",
    "\n",
    "📊 Distribution:\n",
    "The histogram of price per sqft indicates a slight right skew — meaning some luxury waterfront properties may yield above-average returns, ideal for speculative resale."
   ]
  },
  {
   "cell_type": "markdown",
   "id": "9ce13997",
   "metadata": {},
   "source": [
    "🧭 Final Recommendation for Jennifer\n",
    "💡 Buy a high-grade (9+), waterfront home in a premium neighborhood.\n",
    "🏡 These homes have shown stronger short-term appreciation, making them the best investment for resale within a year."
   ]
  }
 ],
 "metadata": {
  "kernelspec": {
   "display_name": ".venv",
   "language": "python",
   "name": "python3"
  },
  "language_info": {
   "codemirror_mode": {
    "name": "ipython",
    "version": 3
   },
   "file_extension": ".py",
   "mimetype": "text/x-python",
   "name": "python",
   "nbconvert_exporter": "python",
   "pygments_lexer": "ipython3",
   "version": "3.11.3"
  }
 },
 "nbformat": 4,
 "nbformat_minor": 5
}

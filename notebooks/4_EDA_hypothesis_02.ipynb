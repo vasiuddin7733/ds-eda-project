{
 "cells": [
  {
   "cell_type": "markdown",
   "id": "05fbd7d7",
   "metadata": {},
   "source": [
    "### Client-Focused Research Questions, Hypotheses, and Indicators (Jennifer Montgomery)"
   ]
  },
  {
   "cell_type": "markdown",
   "id": "f8e185f4",
   "metadata": {},
   "source": [
    "Hypothesis 2:\n",
    "\n",
    " Renovated Houses with Higher Grades Sell for Significantly Higher Prices than Unrenovated Ones"
   ]
  },
  {
   "cell_type": "markdown",
   "id": "944df440",
   "metadata": {},
   "source": [
    "Statement: Renovated homes with higher grades (9 or above) tend to have a higher market value compared to their unrenovated counterparts in the same area."
   ]
  },
  {
   "cell_type": "markdown",
   "id": "18e19d41",
   "metadata": {},
   "source": [
    "Why It Matters: Jennifer is looking for resale-ready homes that are already renovated. This will test whether renovated homes truly command a premium price in the market, which is important for her investment strategy."
   ]
  },
  {
   "cell_type": "markdown",
   "id": "bdc581e2",
   "metadata": {},
   "source": [
    "Testing Methods:\n",
    "\n",
    "1. Grouped Bar Chart of Sale Prices: A visual comparison between renovated and unrenovated homes to observe the price difference.\n",
    "\n",
    "2. T-test or ANOVA: Perform statistical tests to determine if there's a significant difference in mean sale prices between renovated and unrenovated homes.\n",
    "\n",
    "3. Regression Model with Renovation as a Feature: Build a regression model where renovation status is one of the key variables to see how much renovation influences the sale price, adjusting for other factors like size, location, etc."
   ]
  }
 ],
 "metadata": {
  "language_info": {
   "name": "python"
  }
 },
 "nbformat": 4,
 "nbformat_minor": 5
}

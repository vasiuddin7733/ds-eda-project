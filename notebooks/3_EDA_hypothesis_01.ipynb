{
 "cells": [
  {
   "cell_type": "markdown",
   "id": "05fbd7d7",
   "metadata": {},
   "source": [
    "### Client-Focused Research Questions, Hypotheses, and Indicators (Jennifer Montgomery)"
   ]
  },
  {
   "cell_type": "markdown",
   "id": "32b7ea79",
   "metadata": {},
   "source": [
    "\n",
    " Applying the EDA Workflow to Hypothesis 1"
   ]
  },
  {
   "cell_type": "markdown",
   "id": "f8e185f4",
   "metadata": {},
   "source": [
    "Hypothesis 1:\n",
    "\n",
    " Renovated Houses with Higher Grades Sell for Significantly Higher Prices than Unrenovated Ones"
   ]
  },
  {
   "cell_type": "markdown",
   "id": "944df440",
   "metadata": {},
   "source": [
    "Statement: Renovated homes with higher grades (9 or above) tend to have a higher market value compared to their unrenovated counterparts in the same area."
   ]
  },
  {
   "cell_type": "markdown",
   "id": "18e19d41",
   "metadata": {},
   "source": [
    "Why It Matters: Jennifer is looking for resale-ready houses that are already renovated. This will test whether renovated houses truly command a premium price in the market, which is important for her investment strategy."
   ]
  },
  {
   "cell_type": "markdown",
   "id": "9f0a53e3",
   "metadata": {},
   "source": [
    "Indicators:\n",
    "\n",
    "1. renovated → not renovated\n",
    "2. grade\n",
    "3. price"
   ]
  },
  {
   "cell_type": "markdown",
   "id": "bdc581e2",
   "metadata": {},
   "source": [
    "Testing Methods:\n",
    "\n",
    "1. Grouped Bar Chart of Sale Prices: A visual comparison between renovated and unrenovated homes to observe the price difference.\n",
    "\n",
    "2. T-test or ANOVA: Perform statistical tests to determine if there's a significant difference in mean sale prices between renovated and unrenovated homes.\n",
    "\n",
    "3. Regression Model with Renovation as a Feature: Build a regression model where renovation status is one of the key variables to see how much renovation influences the sale price, adjusting for other factors like size, location, etc."
   ]
  },
  {
   "cell_type": "markdown",
   "id": "a84061ab",
   "metadata": {},
   "source": [
    "Import packages"
   ]
  },
  {
   "cell_type": "code",
   "execution_count": 1,
   "id": "7257aca2",
   "metadata": {},
   "outputs": [],
   "source": [
    "import pandas as pd\n",
    "import seaborn as sns\n",
    "import matplotlib.pyplot as plt"
   ]
  },
  {
   "cell_type": "markdown",
   "id": "9f7247cb",
   "metadata": {},
   "source": [
    "Fetch data from king country house table"
   ]
  },
  {
   "cell_type": "code",
   "execution_count": 2,
   "id": "4e1e59c6",
   "metadata": {},
   "outputs": [],
   "source": [
    "\n",
    "# Load your dataset\n",
    "df_houses = pd.read_csv('../data/king_country_house_data_index_false.csv')\n"
   ]
  },
  {
   "cell_type": "code",
   "execution_count": 3,
   "id": "425290d5",
   "metadata": {},
   "outputs": [
    {
     "data": {
      "text/plain": [
       "id                  0\n",
       "bedrooms            0\n",
       "bathrooms           0\n",
       "sqft_living         0\n",
       "sqft_lot            0\n",
       "floors              0\n",
       "waterfront       2391\n",
       "view               63\n",
       "condition           0\n",
       "grade               0\n",
       "sqft_above          0\n",
       "sqft_basement     452\n",
       "yr_built            0\n",
       "yr_renovated     3848\n",
       "zipcode             0\n",
       "lat                 0\n",
       "long                0\n",
       "sqft_living15       0\n",
       "sqft_lot15          0\n",
       "date                0\n",
       "price               0\n",
       "dtype: int64"
      ]
     },
     "execution_count": 3,
     "metadata": {},
     "output_type": "execute_result"
    }
   ],
   "source": [
    "df_houses.isnull().sum()"
   ]
  },
  {
   "cell_type": "markdown",
   "id": "c5bb10bb",
   "metadata": {},
   "source": [
    "check all empty field's total before interpolate"
   ]
  },
  {
   "cell_type": "code",
   "execution_count": 4,
   "id": "921e3d6d",
   "metadata": {},
   "outputs": [
    {
     "name": "stdout",
     "output_type": "stream",
     "text": [
      "3848\n",
      "2391\n",
      "63\n",
      "452\n"
     ]
    }
   ],
   "source": [
    "print(df_houses['yr_renovated'].isnull().sum())\n",
    "print(df_houses['waterfront'].isnull().sum())\n",
    "print(df_houses['view'].isnull().sum())\n",
    "print(df_houses['sqft_basement'].isnull().sum())"
   ]
  },
  {
   "cell_type": "markdown",
   "id": "96d32bb1",
   "metadata": {},
   "source": [
    "### Interpolate Missing Values in Specific Columns"
   ]
  },
  {
   "cell_type": "code",
   "execution_count": 5,
   "id": "12d9b44c",
   "metadata": {},
   "outputs": [],
   "source": [
    "# Interpolate missing values in 'price', 'yr_renovated', 'grade', and 'waterfront'\n",
    "df_houses['yr_renovated'] = df_houses['yr_renovated'].interpolate(method='linear')\n",
    "df_houses['waterfront'] = df_houses['waterfront'].interpolate(method='linear')\n",
    "df_houses['view'] = df_houses['view'].interpolate(method='linear')\n",
    "df_houses['sqft_basement'] = df_houses['sqft_basement'].interpolate(method='linear')"
   ]
  },
  {
   "cell_type": "code",
   "execution_count": 6,
   "id": "e5aaf1ea",
   "metadata": {},
   "outputs": [
    {
     "name": "stdout",
     "output_type": "stream",
     "text": [
      "           id  bedrooms  bathrooms  sqft_living  sqft_lot  floors  waterfront  view  condition  grade  sqft_above  sqft_basement  yr_built  yr_renovated  zipcode      lat     long  sqft_living15  sqft_lot15        date     price\n",
      "0  7129300520       3.0        1.0       1180.0    5650.0     1.0         NaN   0.0          3      7      1180.0            0.0      1955           0.0    98178  47.5112 -122.257         1340.0      5650.0  2014-10-13  221900.0\n"
     ]
    }
   ],
   "source": [
    "# Display the first row where 'waterfront' is NaN\n",
    "print(df_houses[df_houses['waterfront'].isnull()].head(1).to_string())"
   ]
  },
  {
   "cell_type": "code",
   "execution_count": 7,
   "id": "9ab9e0bc",
   "metadata": {},
   "outputs": [
    {
     "name": "stderr",
     "output_type": "stream",
     "text": [
      "/tmp/ipykernel_686740/734926959.py:2: FutureWarning: A value is trying to be set on a copy of a DataFrame or Series through chained assignment using an inplace method.\n",
      "The behavior will change in pandas 3.0. This inplace method will never work because the intermediate object on which we are setting values always behaves as a copy.\n",
      "\n",
      "For example, when doing 'df[col].method(value, inplace=True)', try using 'df.method({col: value}, inplace=True)' or df[col] = df[col].method(value) instead, to perform the operation inplace on the original object.\n",
      "\n",
      "\n",
      "  df_houses['waterfront'].fillna(df_houses['waterfront'].mode()[0], inplace=True)\n"
     ]
    }
   ],
   "source": [
    "# Fill any remaining NaN values in 'waterfront' with the most frequent value\n",
    "df_houses['waterfront'].fillna(df_houses['waterfront'].mode()[0], inplace=True)"
   ]
  },
  {
   "cell_type": "code",
   "execution_count": 8,
   "id": "2be3b84c",
   "metadata": {},
   "outputs": [
    {
     "name": "stdout",
     "output_type": "stream",
     "text": [
      "Empty DataFrame\n",
      "Columns: [id, bedrooms, bathrooms, sqft_living, sqft_lot, floors, waterfront, view, condition, grade, sqft_above, sqft_basement, yr_built, yr_renovated, zipcode, lat, long, sqft_living15, sqft_lot15, date, price]\n",
      "Index: []\n"
     ]
    }
   ],
   "source": [
    "# Display the first row where 'waterfront' is NaN\n",
    "print(df_houses[df_houses['waterfront'].isnull()].head(1).to_string())"
   ]
  },
  {
   "cell_type": "code",
   "execution_count": 9,
   "id": "9129219e",
   "metadata": {},
   "outputs": [
    {
     "data": {
      "text/plain": [
       "id               0\n",
       "bedrooms         0\n",
       "bathrooms        0\n",
       "sqft_living      0\n",
       "sqft_lot         0\n",
       "floors           0\n",
       "waterfront       0\n",
       "view             0\n",
       "condition        0\n",
       "grade            0\n",
       "sqft_above       0\n",
       "sqft_basement    0\n",
       "yr_built         0\n",
       "yr_renovated     0\n",
       "zipcode          0\n",
       "lat              0\n",
       "long             0\n",
       "sqft_living15    0\n",
       "sqft_lot15       0\n",
       "date             0\n",
       "price            0\n",
       "dtype: int64"
      ]
     },
     "execution_count": 9,
     "metadata": {},
     "output_type": "execute_result"
    }
   ],
   "source": [
    "df_houses.isnull().sum()"
   ]
  },
  {
   "cell_type": "markdown",
   "id": "c65a3b92",
   "metadata": {},
   "source": [
    "check all empty field's total after interpolate"
   ]
  },
  {
   "cell_type": "markdown",
   "id": "d3e73fd6",
   "metadata": {},
   "source": [
    "compare renovated houses vs not renovated houses"
   ]
  },
  {
   "cell_type": "code",
   "execution_count": 10,
   "id": "054b3ce7",
   "metadata": {},
   "outputs": [
    {
     "name": "stdout",
     "output_type": "stream",
     "text": [
      "renovated\n",
      "Not Renovated    20527\n",
      "Renovated         1070\n",
      "Name: count, dtype: int64\n"
     ]
    }
   ],
   "source": [
    "# Create a new column to indicate renovation status\n",
    "df_houses['renovated'] = df_houses['yr_renovated'].apply(lambda x: 'Renovated' if x != 0 else 'Not Renovated')\n",
    "\n",
    "# View sample of each group\n",
    "print(df_houses['renovated'].value_counts())\n",
    "\n",
    "# Create a new column to indicate waterfront status\n",
    "df_houses['waterfront_status'] = df_houses['waterfront'].apply(lambda x: 'Waterfront' if x == 1 else 'Non-Waterfront')"
   ]
  },
  {
   "cell_type": "code",
   "execution_count": 11,
   "id": "bf6e68b3",
   "metadata": {},
   "outputs": [
    {
     "name": "stdout",
     "output_type": "stream",
     "text": [
      "           id  bedrooms  bathrooms  sqft_living  sqft_lot  floors  waterfront  view  condition  grade  sqft_above  sqft_basement  yr_built  yr_renovated  zipcode      lat     long  sqft_living15  sqft_lot15        date     price      renovated waterfront_status\n",
      "0  7129300520       3.0       1.00       1180.0    5650.0     1.0         0.0   0.0          3      7      1180.0            0.0      1955           0.0    98178  47.5112 -122.257         1340.0      5650.0  2014-10-13  221900.0  Not Renovated    Non-Waterfront\n",
      "1  6414100192       3.0       2.25       2570.0    7242.0     2.0         0.0   0.0          3      7      2170.0          400.0      1951       19910.0    98125  47.7210 -122.319         1690.0      7639.0  2014-12-09  538000.0      Renovated    Non-Waterfront\n",
      "2  5631500400       2.0       1.00        770.0   10000.0     1.0         0.0   0.0          3      6       770.0            0.0      1933        9955.0    98028  47.7379 -122.233         2720.0      8062.0  2015-02-25  180000.0      Renovated    Non-Waterfront\n",
      "3  2487200875       4.0       3.00       1960.0    5000.0     1.0         0.0   0.0          5      7      1050.0          910.0      1965           0.0    98136  47.5208 -122.393         1360.0      5000.0  2014-12-09  604000.0  Not Renovated    Non-Waterfront\n",
      "4  1954400510       3.0       2.00       1680.0    8080.0     1.0         0.0   0.0          3      8      1680.0            0.0      1987           0.0    98074  47.6168 -122.045         1800.0      7503.0  2015-02-18  510000.0  Not Renovated    Non-Waterfront\n",
      "               id  bedrooms  bathrooms  sqft_living  sqft_lot  floors  waterfront  view  condition  grade  sqft_above  sqft_basement  yr_built  yr_renovated  zipcode      lat     long  sqft_living15  sqft_lot15        date     price      renovated waterfront_status\n",
      "21592   263000018       3.0       2.50       1530.0    1131.0     3.0         0.0   0.0          3      8      1530.0            0.0      2009           0.0    98103  47.6993 -122.346         1530.0      1509.0  2014-05-21  360000.0  Not Renovated    Non-Waterfront\n",
      "21593  6600060120       4.0       2.50       2310.0    5813.0     2.0         0.0   0.0          3      8      2310.0            0.0      2014           0.0    98146  47.5107 -122.362         1830.0      7200.0  2015-02-23  400000.0  Not Renovated    Non-Waterfront\n",
      "21594  1523300141       2.0       0.75       1020.0    1350.0     2.0         0.0   0.0          3      7      1020.0            0.0      2009           0.0    98144  47.5944 -122.299         1020.0      2007.0  2014-06-23  402101.0  Not Renovated    Non-Waterfront\n",
      "21595   291310100       3.0       2.50       1600.0    2388.0     2.0         0.0   0.0          3      8      1600.0            0.0      2004           0.0    98027  47.5345 -122.069         1410.0      1287.0  2015-01-16  400000.0  Not Renovated    Non-Waterfront\n",
      "21596  1523300157       2.0       0.75       1020.0    1076.0     2.0         0.0   0.0          3      7      1020.0            0.0      2008           0.0    98144  47.5941 -122.299         1020.0      1357.0  2014-10-15  325000.0  Not Renovated    Non-Waterfront\n"
     ]
    }
   ],
   "source": [
    "# Show the first 5 rows\n",
    "print(df_houses.head().to_string())\n",
    "\n",
    "# Show the last 5 rows\n",
    "print(df_houses.tail().to_string())"
   ]
  },
  {
   "cell_type": "code",
   "execution_count": 18,
   "id": "34d7cd7c",
   "metadata": {},
   "outputs": [
    {
     "data": {
      "text/html": [
       "<div>\n",
       "<style scoped>\n",
       "    .dataframe tbody tr th:only-of-type {\n",
       "        vertical-align: middle;\n",
       "    }\n",
       "\n",
       "    .dataframe tbody tr th {\n",
       "        vertical-align: top;\n",
       "    }\n",
       "\n",
       "    .dataframe thead th {\n",
       "        text-align: right;\n",
       "    }\n",
       "</style>\n",
       "<table border=\"1\" class=\"dataframe\">\n",
       "  <thead>\n",
       "    <tr style=\"text-align: right;\">\n",
       "      <th></th>\n",
       "      <th>Unnamed: 0</th>\n",
       "      <th>id</th>\n",
       "      <th>bedrooms</th>\n",
       "      <th>bathrooms</th>\n",
       "      <th>sqft_living</th>\n",
       "      <th>sqft_lot</th>\n",
       "      <th>floors</th>\n",
       "      <th>waterfront</th>\n",
       "      <th>view</th>\n",
       "      <th>condition</th>\n",
       "      <th>...</th>\n",
       "      <th>zipcode</th>\n",
       "      <th>lat</th>\n",
       "      <th>long</th>\n",
       "      <th>sqft_living15</th>\n",
       "      <th>sqft_lot15</th>\n",
       "      <th>date</th>\n",
       "      <th>price</th>\n",
       "      <th>renovated</th>\n",
       "      <th>waterfront_status</th>\n",
       "      <th>grade_category</th>\n",
       "    </tr>\n",
       "  </thead>\n",
       "  <tbody>\n",
       "    <tr>\n",
       "      <th>0</th>\n",
       "      <td>0</td>\n",
       "      <td>7129300520</td>\n",
       "      <td>3.0</td>\n",
       "      <td>1.00</td>\n",
       "      <td>1180.0</td>\n",
       "      <td>5650.0</td>\n",
       "      <td>1.0</td>\n",
       "      <td>0.0</td>\n",
       "      <td>0.0</td>\n",
       "      <td>3</td>\n",
       "      <td>...</td>\n",
       "      <td>98178</td>\n",
       "      <td>47.5112</td>\n",
       "      <td>-122.257</td>\n",
       "      <td>1340.0</td>\n",
       "      <td>5650.0</td>\n",
       "      <td>2014-10-13</td>\n",
       "      <td>221900.0</td>\n",
       "      <td>Not Renovated</td>\n",
       "      <td>Non-Waterfront</td>\n",
       "      <td>Mid (6-8)</td>\n",
       "    </tr>\n",
       "    <tr>\n",
       "      <th>1</th>\n",
       "      <td>1</td>\n",
       "      <td>6414100192</td>\n",
       "      <td>3.0</td>\n",
       "      <td>2.25</td>\n",
       "      <td>2570.0</td>\n",
       "      <td>7242.0</td>\n",
       "      <td>2.0</td>\n",
       "      <td>0.0</td>\n",
       "      <td>0.0</td>\n",
       "      <td>3</td>\n",
       "      <td>...</td>\n",
       "      <td>98125</td>\n",
       "      <td>47.7210</td>\n",
       "      <td>-122.319</td>\n",
       "      <td>1690.0</td>\n",
       "      <td>7639.0</td>\n",
       "      <td>2014-12-09</td>\n",
       "      <td>538000.0</td>\n",
       "      <td>Renovated</td>\n",
       "      <td>Non-Waterfront</td>\n",
       "      <td>Mid (6-8)</td>\n",
       "    </tr>\n",
       "    <tr>\n",
       "      <th>2</th>\n",
       "      <td>2</td>\n",
       "      <td>5631500400</td>\n",
       "      <td>2.0</td>\n",
       "      <td>1.00</td>\n",
       "      <td>770.0</td>\n",
       "      <td>10000.0</td>\n",
       "      <td>1.0</td>\n",
       "      <td>0.0</td>\n",
       "      <td>0.0</td>\n",
       "      <td>3</td>\n",
       "      <td>...</td>\n",
       "      <td>98028</td>\n",
       "      <td>47.7379</td>\n",
       "      <td>-122.233</td>\n",
       "      <td>2720.0</td>\n",
       "      <td>8062.0</td>\n",
       "      <td>2015-02-25</td>\n",
       "      <td>180000.0</td>\n",
       "      <td>Renovated</td>\n",
       "      <td>Non-Waterfront</td>\n",
       "      <td>Low (1-5)</td>\n",
       "    </tr>\n",
       "    <tr>\n",
       "      <th>3</th>\n",
       "      <td>3</td>\n",
       "      <td>2487200875</td>\n",
       "      <td>4.0</td>\n",
       "      <td>3.00</td>\n",
       "      <td>1960.0</td>\n",
       "      <td>5000.0</td>\n",
       "      <td>1.0</td>\n",
       "      <td>0.0</td>\n",
       "      <td>0.0</td>\n",
       "      <td>5</td>\n",
       "      <td>...</td>\n",
       "      <td>98136</td>\n",
       "      <td>47.5208</td>\n",
       "      <td>-122.393</td>\n",
       "      <td>1360.0</td>\n",
       "      <td>5000.0</td>\n",
       "      <td>2014-12-09</td>\n",
       "      <td>604000.0</td>\n",
       "      <td>Not Renovated</td>\n",
       "      <td>Non-Waterfront</td>\n",
       "      <td>Mid (6-8)</td>\n",
       "    </tr>\n",
       "    <tr>\n",
       "      <th>4</th>\n",
       "      <td>4</td>\n",
       "      <td>1954400510</td>\n",
       "      <td>3.0</td>\n",
       "      <td>2.00</td>\n",
       "      <td>1680.0</td>\n",
       "      <td>8080.0</td>\n",
       "      <td>1.0</td>\n",
       "      <td>0.0</td>\n",
       "      <td>0.0</td>\n",
       "      <td>3</td>\n",
       "      <td>...</td>\n",
       "      <td>98074</td>\n",
       "      <td>47.6168</td>\n",
       "      <td>-122.045</td>\n",
       "      <td>1800.0</td>\n",
       "      <td>7503.0</td>\n",
       "      <td>2015-02-18</td>\n",
       "      <td>510000.0</td>\n",
       "      <td>Not Renovated</td>\n",
       "      <td>Non-Waterfront</td>\n",
       "      <td>Mid (6-8)</td>\n",
       "    </tr>\n",
       "    <tr>\n",
       "      <th>...</th>\n",
       "      <td>...</td>\n",
       "      <td>...</td>\n",
       "      <td>...</td>\n",
       "      <td>...</td>\n",
       "      <td>...</td>\n",
       "      <td>...</td>\n",
       "      <td>...</td>\n",
       "      <td>...</td>\n",
       "      <td>...</td>\n",
       "      <td>...</td>\n",
       "      <td>...</td>\n",
       "      <td>...</td>\n",
       "      <td>...</td>\n",
       "      <td>...</td>\n",
       "      <td>...</td>\n",
       "      <td>...</td>\n",
       "      <td>...</td>\n",
       "      <td>...</td>\n",
       "      <td>...</td>\n",
       "      <td>...</td>\n",
       "      <td>...</td>\n",
       "    </tr>\n",
       "    <tr>\n",
       "      <th>21592</th>\n",
       "      <td>21592</td>\n",
       "      <td>263000018</td>\n",
       "      <td>3.0</td>\n",
       "      <td>2.50</td>\n",
       "      <td>1530.0</td>\n",
       "      <td>1131.0</td>\n",
       "      <td>3.0</td>\n",
       "      <td>0.0</td>\n",
       "      <td>0.0</td>\n",
       "      <td>3</td>\n",
       "      <td>...</td>\n",
       "      <td>98103</td>\n",
       "      <td>47.6993</td>\n",
       "      <td>-122.346</td>\n",
       "      <td>1530.0</td>\n",
       "      <td>1509.0</td>\n",
       "      <td>2014-05-21</td>\n",
       "      <td>360000.0</td>\n",
       "      <td>Not Renovated</td>\n",
       "      <td>Non-Waterfront</td>\n",
       "      <td>Mid (6-8)</td>\n",
       "    </tr>\n",
       "    <tr>\n",
       "      <th>21593</th>\n",
       "      <td>21593</td>\n",
       "      <td>6600060120</td>\n",
       "      <td>4.0</td>\n",
       "      <td>2.50</td>\n",
       "      <td>2310.0</td>\n",
       "      <td>5813.0</td>\n",
       "      <td>2.0</td>\n",
       "      <td>0.0</td>\n",
       "      <td>0.0</td>\n",
       "      <td>3</td>\n",
       "      <td>...</td>\n",
       "      <td>98146</td>\n",
       "      <td>47.5107</td>\n",
       "      <td>-122.362</td>\n",
       "      <td>1830.0</td>\n",
       "      <td>7200.0</td>\n",
       "      <td>2015-02-23</td>\n",
       "      <td>400000.0</td>\n",
       "      <td>Not Renovated</td>\n",
       "      <td>Non-Waterfront</td>\n",
       "      <td>Mid (6-8)</td>\n",
       "    </tr>\n",
       "    <tr>\n",
       "      <th>21594</th>\n",
       "      <td>21594</td>\n",
       "      <td>1523300141</td>\n",
       "      <td>2.0</td>\n",
       "      <td>0.75</td>\n",
       "      <td>1020.0</td>\n",
       "      <td>1350.0</td>\n",
       "      <td>2.0</td>\n",
       "      <td>0.0</td>\n",
       "      <td>0.0</td>\n",
       "      <td>3</td>\n",
       "      <td>...</td>\n",
       "      <td>98144</td>\n",
       "      <td>47.5944</td>\n",
       "      <td>-122.299</td>\n",
       "      <td>1020.0</td>\n",
       "      <td>2007.0</td>\n",
       "      <td>2014-06-23</td>\n",
       "      <td>402101.0</td>\n",
       "      <td>Not Renovated</td>\n",
       "      <td>Non-Waterfront</td>\n",
       "      <td>Mid (6-8)</td>\n",
       "    </tr>\n",
       "    <tr>\n",
       "      <th>21595</th>\n",
       "      <td>21595</td>\n",
       "      <td>291310100</td>\n",
       "      <td>3.0</td>\n",
       "      <td>2.50</td>\n",
       "      <td>1600.0</td>\n",
       "      <td>2388.0</td>\n",
       "      <td>2.0</td>\n",
       "      <td>0.0</td>\n",
       "      <td>0.0</td>\n",
       "      <td>3</td>\n",
       "      <td>...</td>\n",
       "      <td>98027</td>\n",
       "      <td>47.5345</td>\n",
       "      <td>-122.069</td>\n",
       "      <td>1410.0</td>\n",
       "      <td>1287.0</td>\n",
       "      <td>2015-01-16</td>\n",
       "      <td>400000.0</td>\n",
       "      <td>Not Renovated</td>\n",
       "      <td>Non-Waterfront</td>\n",
       "      <td>Mid (6-8)</td>\n",
       "    </tr>\n",
       "    <tr>\n",
       "      <th>21596</th>\n",
       "      <td>21596</td>\n",
       "      <td>1523300157</td>\n",
       "      <td>2.0</td>\n",
       "      <td>0.75</td>\n",
       "      <td>1020.0</td>\n",
       "      <td>1076.0</td>\n",
       "      <td>2.0</td>\n",
       "      <td>0.0</td>\n",
       "      <td>0.0</td>\n",
       "      <td>3</td>\n",
       "      <td>...</td>\n",
       "      <td>98144</td>\n",
       "      <td>47.5941</td>\n",
       "      <td>-122.299</td>\n",
       "      <td>1020.0</td>\n",
       "      <td>1357.0</td>\n",
       "      <td>2014-10-15</td>\n",
       "      <td>325000.0</td>\n",
       "      <td>Not Renovated</td>\n",
       "      <td>Non-Waterfront</td>\n",
       "      <td>Mid (6-8)</td>\n",
       "    </tr>\n",
       "  </tbody>\n",
       "</table>\n",
       "<p>21597 rows × 25 columns</p>\n",
       "</div>"
      ],
      "text/plain": [
       "       Unnamed: 0          id  bedrooms  bathrooms  sqft_living  sqft_lot  \\\n",
       "0               0  7129300520       3.0       1.00       1180.0    5650.0   \n",
       "1               1  6414100192       3.0       2.25       2570.0    7242.0   \n",
       "2               2  5631500400       2.0       1.00        770.0   10000.0   \n",
       "3               3  2487200875       4.0       3.00       1960.0    5000.0   \n",
       "4               4  1954400510       3.0       2.00       1680.0    8080.0   \n",
       "...           ...         ...       ...        ...          ...       ...   \n",
       "21592       21592   263000018       3.0       2.50       1530.0    1131.0   \n",
       "21593       21593  6600060120       4.0       2.50       2310.0    5813.0   \n",
       "21594       21594  1523300141       2.0       0.75       1020.0    1350.0   \n",
       "21595       21595   291310100       3.0       2.50       1600.0    2388.0   \n",
       "21596       21596  1523300157       2.0       0.75       1020.0    1076.0   \n",
       "\n",
       "       floors  waterfront  view  condition  ...  zipcode      lat     long  \\\n",
       "0         1.0         0.0   0.0          3  ...    98178  47.5112 -122.257   \n",
       "1         2.0         0.0   0.0          3  ...    98125  47.7210 -122.319   \n",
       "2         1.0         0.0   0.0          3  ...    98028  47.7379 -122.233   \n",
       "3         1.0         0.0   0.0          5  ...    98136  47.5208 -122.393   \n",
       "4         1.0         0.0   0.0          3  ...    98074  47.6168 -122.045   \n",
       "...       ...         ...   ...        ...  ...      ...      ...      ...   \n",
       "21592     3.0         0.0   0.0          3  ...    98103  47.6993 -122.346   \n",
       "21593     2.0         0.0   0.0          3  ...    98146  47.5107 -122.362   \n",
       "21594     2.0         0.0   0.0          3  ...    98144  47.5944 -122.299   \n",
       "21595     2.0         0.0   0.0          3  ...    98027  47.5345 -122.069   \n",
       "21596     2.0         0.0   0.0          3  ...    98144  47.5941 -122.299   \n",
       "\n",
       "       sqft_living15  sqft_lot15        date     price      renovated  \\\n",
       "0             1340.0      5650.0  2014-10-13  221900.0  Not Renovated   \n",
       "1             1690.0      7639.0  2014-12-09  538000.0      Renovated   \n",
       "2             2720.0      8062.0  2015-02-25  180000.0      Renovated   \n",
       "3             1360.0      5000.0  2014-12-09  604000.0  Not Renovated   \n",
       "4             1800.0      7503.0  2015-02-18  510000.0  Not Renovated   \n",
       "...              ...         ...         ...       ...            ...   \n",
       "21592         1530.0      1509.0  2014-05-21  360000.0  Not Renovated   \n",
       "21593         1830.0      7200.0  2015-02-23  400000.0  Not Renovated   \n",
       "21594         1020.0      2007.0  2014-06-23  402101.0  Not Renovated   \n",
       "21595         1410.0      1287.0  2015-01-16  400000.0  Not Renovated   \n",
       "21596         1020.0      1357.0  2014-10-15  325000.0  Not Renovated   \n",
       "\n",
       "       waterfront_status  grade_category  \n",
       "0         Non-Waterfront       Mid (6-8)  \n",
       "1         Non-Waterfront       Mid (6-8)  \n",
       "2         Non-Waterfront       Low (1-5)  \n",
       "3         Non-Waterfront       Mid (6-8)  \n",
       "4         Non-Waterfront       Mid (6-8)  \n",
       "...                  ...             ...  \n",
       "21592     Non-Waterfront       Mid (6-8)  \n",
       "21593     Non-Waterfront       Mid (6-8)  \n",
       "21594     Non-Waterfront       Mid (6-8)  \n",
       "21595     Non-Waterfront       Mid (6-8)  \n",
       "21596     Non-Waterfront       Mid (6-8)  \n",
       "\n",
       "[21597 rows x 25 columns]"
      ]
     },
     "execution_count": 18,
     "metadata": {},
     "output_type": "execute_result"
    }
   ],
   "source": [
    "df_houses.to_csv(\"../data/king_country_house_data_index_false_filter.csv\")\n",
    "df_houses_filter = pd.read_csv(\"../data/king_country_house_data_index_false_filter.csv\")\n",
    "df_houses_filter"
   ]
  },
  {
   "cell_type": "code",
   "execution_count": 13,
   "id": "93900c35",
   "metadata": {},
   "outputs": [
    {
     "name": "stdout",
     "output_type": "stream",
     "text": [
      "713202.870093458\n",
      "531283.579042237\n"
     ]
    },
    {
     "data": {
      "image/png": "[encoded data removed]",
      "text/plain": [
       "<Figure size 640x480 with 1 Axes>"
      ]
     },
     "metadata": {},
     "output_type": "display_data"
    }
   ],
   "source": [
    "# Group by 'renovated' and calculate mean 'price' for each group\n",
    "mean_prices = df_houses.groupby('renovated')['price'].mean().reset_index()\n",
    "\n",
    "print(df_houses[df_houses['renovated'] == 'Renovated']['price'].mean())\n",
    "print(df_houses[df_houses['renovated'] == 'Not Renovated']['price'].mean())\n",
    "\n",
    "# Plot the barplot\n",
    "sns.barplot(data=mean_prices, x='renovated', y='price')\n",
    "\n",
    "# Add labels and title\n",
    "plt.title('Average Sale Price: Renovated vs Not Renovated Houses')\n",
    "plt.ylabel('Average Sale Price ($)')\n",
    "plt.xlabel('Renovation Status')\n",
    "\n",
    "# Show plot\n",
    "plt.show()"
   ]
  },
  {
   "cell_type": "code",
   "execution_count": 14,
   "id": "05cce68d",
   "metadata": {},
   "outputs": [
    {
     "data": {
      "image/png": "[encoded data removed]",
      "text/plain": [
       "<Figure size 1000x800 with 1 Axes>"
      ]
     },
     "metadata": {},
     "output_type": "display_data"
    }
   ],
   "source": [
    "# Assuming df_houses is your dataframe with the relevant data\n",
    "\n",
    "# Optionally group grades: Low (1-6), Mid (7-8), High (9+)\n",
    "df_houses['grade_category'] = df_houses['grade'].apply(lambda g: 'High (8+)' if g >= 8 else 'Mid (6-8)' if g >= 6 else 'Low (1-5)')\n",
    "\n",
    "# Plot\n",
    "plt.figure(figsize=(10, 8))\n",
    "sns.barplot(data=df_houses, x='grade_category', y='price')\n",
    "plt.title('Average Sale Price by Renovation Status and Grade')\n",
    "plt.ylabel('Average Price ($)')\n",
    "plt.xlabel('Grade Category')\n",
    "plt.xticks(rotation=0)\n",
    "plt.tight_layout()\n",
    "plt.show()"
   ]
  },
  {
   "cell_type": "code",
   "execution_count": 15,
   "id": "65e03ca6",
   "metadata": {},
   "outputs": [
    {
     "name": "stderr",
     "output_type": "stream",
     "text": [
      "/tmp/ipykernel_686740/3498733406.py:15: FutureWarning: The default of observed=False is deprecated and will be changed to True in a future version of pandas. Pass observed=False to retain current behavior or observed=True to adopt the future default and silence this warning.\n",
      "  grouped = df_houses.groupby(['grade_category', 'renovated'])['price'].mean().reset_index()\n"
     ]
    },
    {
     "data": {
      "image/png": "[encoded data removed]",
      "text/plain": [
       "<Figure size 1000x600 with 1 Axes>"
      ]
     },
     "metadata": {},
     "output_type": "display_data"
    }
   ],
   "source": [
    "import pandas as pd\n",
    "import matplotlib.pyplot as plt\n",
    "import seaborn as sns\n",
    "\n",
    "# Categorize grade\n",
    "df_houses['grade_category'] = df_houses['grade'].apply(\n",
    "    lambda g: 'High (8+)' if g >= 8 else 'Mid (6-8)' if g >= 6 else 'Low (1-5)'\n",
    ")\n",
    "\n",
    "# Convert to categorical type with desired order\n",
    "grade_order = ['Low (1-5)', 'Mid (6-8)', 'High (8+)']\n",
    "df_houses['grade_category'] = pd.Categorical(df_houses['grade_category'], categories=grade_order, ordered=True)\n",
    "\n",
    "# Group and calculate average price\n",
    "grouped = df_houses.groupby(['grade_category', 'renovated'])['price'].mean().reset_index()\n",
    "\n",
    "# Plot\n",
    "plt.figure(figsize=(10, 6))\n",
    "sns.barplot(\n",
    "    data=grouped,\n",
    "    x='grade_category',\n",
    "    y='price',\n",
    "    hue='renovated',\n",
    "    order=grade_order\n",
    ")\n",
    "plt.title('Average Sale Price by Grade Level and Renovation Status')\n",
    "plt.ylabel('Average Price ($)')\n",
    "plt.xlabel('Grade Category')\n",
    "plt.xticks(rotation=0)\n",
    "plt.tight_layout()\n",
    "plt.show()\n"
   ]
  },
  {
   "cell_type": "code",
   "execution_count": 16,
   "id": "30d6f16d",
   "metadata": {},
   "outputs": [
    {
     "name": "stderr",
     "output_type": "stream",
     "text": [
      "/tmp/ipykernel_686740/4153583708.py:15: FutureWarning: The default of observed=False is deprecated and will be changed to True in a future version of pandas. Pass observed=False to retain current behavior or observed=True to adopt the future default and silence this warning.\n",
      "  grouped = df_houses.groupby(['grade_category', 'renovated'])['price'].mean().reset_index()\n"
     ]
    },
    {
     "data": {
      "image/png": "[encoded data removed]",
      "text/plain": [
       "<Figure size 1000x600 with 1 Axes>"
      ]
     },
     "metadata": {},
     "output_type": "display_data"
    }
   ],
   "source": [
    "import pandas as pd\n",
    "import matplotlib.pyplot as plt\n",
    "import seaborn as sns\n",
    "\n",
    "# Categorize grade\n",
    "df_houses['grade_category'] = df_houses['grade'].apply(\n",
    "    lambda g: 'High (9+)' if g >= 9 else 'Mid (6-8)' if g >= 7 else 'Low (1-5)'\n",
    ")\n",
    "\n",
    "# Convert to categorical type with desired order\n",
    "grade_order = ['Low (1-5)', 'Mid (6-8)', 'High (9+)']\n",
    "df_houses['grade_category'] = pd.Categorical(df_houses['grade_category'], categories=grade_order, ordered=True)\n",
    "\n",
    "# Group and calculate average price\n",
    "grouped = df_houses.groupby(['grade_category', 'renovated'])['price'].mean().reset_index()\n",
    "\n",
    "# Plot\n",
    "plt.figure(figsize=(10, 6))\n",
    "sns.barplot(\n",
    "    data=grouped,\n",
    "    x='grade_category',\n",
    "    y='price',\n",
    "    hue='renovated',\n",
    "    order=grade_order\n",
    ")\n",
    "plt.title('Average Sale Price by Grade Level and Renovation Status')\n",
    "plt.ylabel('Average Price ($)')\n",
    "plt.xlabel('Grade Category')\n",
    "plt.xticks(rotation=0)\n",
    "plt.tight_layout()\n",
    "plt.show()"
   ]
  }
 ],
 "metadata": {
  "kernelspec": {
   "display_name": ".venv",
   "language": "python",
   "name": "python3"
  },
  "language_info": {
   "codemirror_mode": {
    "name": "ipython",
    "version": 3
   },
   "file_extension": ".py",
   "mimetype": "text/x-python",
   "name": "python",
   "nbconvert_exporter": "python",
   "pygments_lexer": "ipython3",
   "version": "3.11.3"
  }
 },
 "nbformat": 4,
 "nbformat_minor": 5
}

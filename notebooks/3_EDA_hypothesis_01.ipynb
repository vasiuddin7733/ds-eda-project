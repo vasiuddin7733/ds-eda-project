{
 "cells": [
  {
   "cell_type": "markdown",
   "id": "05fbd7d7",
   "metadata": {},
   "source": [
    "<h1 style='color:crimson'>Client-Focused Research Questions, Hypotheses 1, and Indicators (Jennifer Montgomery)</h1>"
   ]
  },
  {
   "cell_type": "markdown",
   "id": "32b7ea79",
   "metadata": {},
   "source": [
    "<h3 color='seagreen\">Applying the EDA Workflow to Hypothesis 1</h3>"
   ]
  },
  {
   "cell_type": "markdown",
   "id": "f8e185f4",
   "metadata": {},
   "source": [
    "<h2 style='color:darkblue'>Hypothesis 1:</h2>\n",
    "\n",
    " Renovated Houses with Higher Grades Sell for Significantly Higher Prices than Unrenovated Ones"
   ]
  },
  {
   "cell_type": "markdown",
   "id": "944df440",
   "metadata": {},
   "source": [
    "💡 Statement: Renovated houses with higher grades (8 or above) tend to have a higher market value compared to their unrenovated counterparts in the same area."
   ]
  },
  {
   "cell_type": "markdown",
   "id": "18e19d41",
   "metadata": {},
   "source": [
    "Why It Matters: \n",
    "\n",
    "Jennifer is looking for resale-ready houses that are already renovated. This will test whether renovated houses truly command a premium price in the market, which is important for her investment strategy."
   ]
  },
  {
   "cell_type": "markdown",
   "id": "9f0a53e3",
   "metadata": {},
   "source": [
    "Indicators:\n",
    "\n",
    "1. renovated → not renovated\n",
    "2. grade\n",
    "3. price"
   ]
  },
  {
   "cell_type": "markdown",
   "id": "bdc581e2",
   "metadata": {},
   "source": [
    "<h2 style='color:darkblue'>Testing Methods:</h2>\n",
    "\n",
    "1. Grouped Bar Chart of Sale Prices: A visual comparison between renovated and unrenovated houses to observe the price difference.\n",
    "\n",
    "2. T-test or ANOVA: Perform statistical tests to determine if there's a significant difference in mean sale prices between renovated and unrenovated houses.\n",
    "\n",
    "3. Regression Model with Renovation as a Feature: Build a regression model where renovation status is one of the key variables to see how much renovation influences the sale price, adjusting for other factors like size, location, etc."
   ]
  },
  {
   "cell_type": "markdown",
   "id": "a84061ab",
   "metadata": {},
   "source": [
    "<h3 style='color:seagreen'>Import packages</h3>"
   ]
  },
  {
   "cell_type": "code",
   "execution_count": 1,
   "id": "7257aca2",
   "metadata": {},
   "outputs": [],
   "source": [
    "import pandas as pd\n",
    "import seaborn as sns\n",
    "import matplotlib.pyplot as plt"
   ]
  },
  {
   "cell_type": "markdown",
   "id": "9f7247cb",
   "metadata": {},
   "source": [
    "<h3 style='color:seagreen'>Fetch data from king country house table<h3>"
   ]
  },
  {
   "cell_type": "code",
   "execution_count": 2,
   "id": "4e1e59c6",
   "metadata": {},
   "outputs": [],
   "source": [
    "# Load your dataset\n",
    "df_houses = pd.read_csv('../data/king_country_house_data_index_false.csv')"
   ]
  },
  {
   "cell_type": "markdown",
   "id": "0078a935",
   "metadata": {},
   "source": [
    "<h3 style='color:seagreen'>check all empty field's total before interpolate</h3>"
   ]
  },
  {
   "cell_type": "code",
   "execution_count": 3,
   "id": "425290d5",
   "metadata": {},
   "outputs": [
    {
     "data": {
      "text/plain": [
       "id                  0\n",
       "bedrooms            0\n",
       "bathrooms           0\n",
       "sqft_living         0\n",
       "sqft_lot            0\n",
       "floors              0\n",
       "waterfront       2391\n",
       "view               63\n",
       "condition           0\n",
       "grade               0\n",
       "sqft_above          0\n",
       "sqft_basement     452\n",
       "yr_built            0\n",
       "yr_renovated     3848\n",
       "zipcode             0\n",
       "lat                 0\n",
       "long                0\n",
       "sqft_living15       0\n",
       "sqft_lot15          0\n",
       "date                0\n",
       "price               0\n",
       "dtype: int64"
      ]
     },
     "execution_count": 3,
     "metadata": {},
     "output_type": "execute_result"
    }
   ],
   "source": [
    "df_houses.isnull().sum()"
   ]
  },
  {
   "cell_type": "code",
   "execution_count": 4,
   "id": "921e3d6d",
   "metadata": {},
   "outputs": [
    {
     "name": "stdout",
     "output_type": "stream",
     "text": [
      "3848\n",
      "2391\n",
      "63\n",
      "452\n"
     ]
    }
   ],
   "source": [
    "print(df_houses['yr_renovated'].isnull().sum())\n",
    "print(df_houses['waterfront'].isnull().sum())\n",
    "print(df_houses['view'].isnull().sum())\n",
    "print(df_houses['sqft_basement'].isnull().sum())"
   ]
  },
  {
   "cell_type": "markdown",
   "id": "96d32bb1",
   "metadata": {},
   "source": [
    "<h3 style='color:seagreen'> Interpolate Missing Values in Specific Columns</h3>"
   ]
  },
  {
   "cell_type": "code",
   "execution_count": 5,
   "id": "12d9b44c",
   "metadata": {},
   "outputs": [],
   "source": [
    "# Interpolate missing values in 'price', 'yr_renovated', 'grade', and 'waterfront'\n",
    "df_houses['yr_renovated'] = df_houses['yr_renovated'].interpolate(method='linear')\n",
    "df_houses['waterfront'] = df_houses['waterfront'].interpolate(method='linear')\n",
    "df_houses['view'] = df_houses['view'].interpolate(method='linear')\n",
    "df_houses['sqft_basement'] = df_houses['sqft_basement'].interpolate(method='linear')"
   ]
  },
  {
   "cell_type": "code",
   "execution_count": 6,
   "id": "e5aaf1ea",
   "metadata": {},
   "outputs": [
    {
     "name": "stdout",
     "output_type": "stream",
     "text": [
      "           id  bedrooms  bathrooms  sqft_living  sqft_lot  floors  waterfront  view  condition  grade  sqft_above  sqft_basement  yr_built  yr_renovated  zipcode      lat     long  sqft_living15  sqft_lot15        date     price\n",
      "0  7129300520       3.0        1.0       1180.0    5650.0     1.0         NaN   0.0          3      7      1180.0            0.0      1955           0.0    98178  47.5112 -122.257         1340.0      5650.0  2014-10-13  221900.0\n"
     ]
    }
   ],
   "source": [
    "# Display the first row where 'waterfront' is NaN\n",
    "print(df_houses[df_houses['waterfront'].isnull()].head(1).to_string())"
   ]
  },
  {
   "cell_type": "code",
   "execution_count": 7,
   "id": "9ab9e0bc",
   "metadata": {},
   "outputs": [
    {
     "name": "stderr",
     "output_type": "stream",
     "text": [
      "/tmp/ipykernel_710295/734926959.py:2: FutureWarning: A value is trying to be set on a copy of a DataFrame or Series through chained assignment using an inplace method.\n",
      "The behavior will change in pandas 3.0. This inplace method will never work because the intermediate object on which we are setting values always behaves as a copy.\n",
      "\n",
      "For example, when doing 'df[col].method(value, inplace=True)', try using 'df.method({col: value}, inplace=True)' or df[col] = df[col].method(value) instead, to perform the operation inplace on the original object.\n",
      "\n",
      "\n",
      "  df_houses['waterfront'].fillna(df_houses['waterfront'].mode()[0], inplace=True)\n"
     ]
    }
   ],
   "source": [
    "# Fill any remaining NaN values in 'waterfront' with the most frequent value\n",
    "df_houses['waterfront'].fillna(df_houses['waterfront'].mode()[0], inplace=True)"
   ]
  },
  {
   "cell_type": "code",
   "execution_count": 8,
   "id": "2be3b84c",
   "metadata": {},
   "outputs": [
    {
     "name": "stdout",
     "output_type": "stream",
     "text": [
      "Empty DataFrame\n",
      "Columns: [id, bedrooms, bathrooms, sqft_living, sqft_lot, floors, waterfront, view, condition, grade, sqft_above, sqft_basement, yr_built, yr_renovated, zipcode, lat, long, sqft_living15, sqft_lot15, date, price]\n",
      "Index: []\n"
     ]
    }
   ],
   "source": [
    "# Display the first row where 'waterfront' is NaN\n",
    "print(df_houses[df_houses['waterfront'].isnull()].head(1).to_string())"
   ]
  },
  {
   "cell_type": "code",
   "execution_count": 9,
   "id": "9129219e",
   "metadata": {},
   "outputs": [
    {
     "data": {
      "text/plain": [
       "id               0\n",
       "bedrooms         0\n",
       "bathrooms        0\n",
       "sqft_living      0\n",
       "sqft_lot         0\n",
       "floors           0\n",
       "waterfront       0\n",
       "view             0\n",
       "condition        0\n",
       "grade            0\n",
       "sqft_above       0\n",
       "sqft_basement    0\n",
       "yr_built         0\n",
       "yr_renovated     0\n",
       "zipcode          0\n",
       "lat              0\n",
       "long             0\n",
       "sqft_living15    0\n",
       "sqft_lot15       0\n",
       "date             0\n",
       "price            0\n",
       "dtype: int64"
      ]
     },
     "execution_count": 9,
     "metadata": {},
     "output_type": "execute_result"
    }
   ],
   "source": [
    "df_houses.isnull().sum()"
   ]
  },
  {
   "cell_type": "markdown",
   "id": "d3cf5320",
   "metadata": {},
   "source": [
    "<h3 style='color:seagreen'>Create New Columns Indicating Renovation Status, Waterfront Status, and Grade Category</h3>"
   ]
  },
  {
   "cell_type": "code",
   "execution_count": 10,
   "id": "054b3ce7",
   "metadata": {},
   "outputs": [
    {
     "name": "stdout",
     "output_type": "stream",
     "text": [
      "renovated\n",
      "Not Renovated    20527\n",
      "Renovated         1070\n",
      "Name: count, dtype: int64\n"
     ]
    }
   ],
   "source": [
    "# Create a new column to indicate renovation status\n",
    "df_houses['renovated'] = df_houses['yr_renovated'].apply(lambda x: 'Renovated' if x != 0 else 'Not Renovated')\n",
    "\n",
    "# View sample of each group\n",
    "print(df_houses['renovated'].value_counts())\n",
    "\n",
    "# Create a new column to indicate waterfront status\n",
    "df_houses['waterfront_status'] = df_houses['waterfront'].apply(lambda x: 'Waterfront' if x == 1 else 'Non-Waterfront')\n",
    "\n",
    "# Optionally group grades: Low (1-6), Mid (7-8), High (9+)\n",
    "grade_order = ['Low (1-5)', 'Mid (6-8)', 'High (8+)']\n",
    "df_houses['grade_category'] = df_houses['grade'].apply(lambda g: 'High (8+)' if g >= 8 else 'Mid (6-8)' if g >= 6 else 'Low (1-5)')"
   ]
  },
  {
   "cell_type": "code",
   "execution_count": 11,
   "id": "bf6e68b3",
   "metadata": {},
   "outputs": [
    {
     "name": "stdout",
     "output_type": "stream",
     "text": [
      "           id  bedrooms  bathrooms  sqft_living  sqft_lot  floors  waterfront  view  condition  grade  sqft_above  sqft_basement  yr_built  yr_renovated  zipcode      lat     long  sqft_living15  sqft_lot15        date     price      renovated waterfront_status grade_category\n",
      "0  7129300520       3.0       1.00       1180.0    5650.0     1.0         0.0   0.0          3      7      1180.0            0.0      1955           0.0    98178  47.5112 -122.257         1340.0      5650.0  2014-10-13  221900.0  Not Renovated    Non-Waterfront      Mid (6-8)\n",
      "1  6414100192       3.0       2.25       2570.0    7242.0     2.0         0.0   0.0          3      7      2170.0          400.0      1951       19910.0    98125  47.7210 -122.319         1690.0      7639.0  2014-12-09  538000.0      Renovated    Non-Waterfront      Mid (6-8)\n",
      "2  5631500400       2.0       1.00        770.0   10000.0     1.0         0.0   0.0          3      6       770.0            0.0      1933        9955.0    98028  47.7379 -122.233         2720.0      8062.0  2015-02-25  180000.0      Renovated    Non-Waterfront      Mid (6-8)\n",
      "3  2487200875       4.0       3.00       1960.0    5000.0     1.0         0.0   0.0          5      7      1050.0          910.0      1965           0.0    98136  47.5208 -122.393         1360.0      5000.0  2014-12-09  604000.0  Not Renovated    Non-Waterfront      Mid (6-8)\n",
      "4  1954400510       3.0       2.00       1680.0    8080.0     1.0         0.0   0.0          3      8      1680.0            0.0      1987           0.0    98074  47.6168 -122.045         1800.0      7503.0  2015-02-18  510000.0  Not Renovated    Non-Waterfront      High (8+)\n",
      "               id  bedrooms  bathrooms  sqft_living  sqft_lot  floors  waterfront  view  condition  grade  sqft_above  sqft_basement  yr_built  yr_renovated  zipcode      lat     long  sqft_living15  sqft_lot15        date     price      renovated waterfront_status grade_category\n",
      "21592   263000018       3.0       2.50       1530.0    1131.0     3.0         0.0   0.0          3      8      1530.0            0.0      2009           0.0    98103  47.6993 -122.346         1530.0      1509.0  2014-05-21  360000.0  Not Renovated    Non-Waterfront      High (8+)\n",
      "21593  6600060120       4.0       2.50       2310.0    5813.0     2.0         0.0   0.0          3      8      2310.0            0.0      2014           0.0    98146  47.5107 -122.362         1830.0      7200.0  2015-02-23  400000.0  Not Renovated    Non-Waterfront      High (8+)\n",
      "21594  1523300141       2.0       0.75       1020.0    1350.0     2.0         0.0   0.0          3      7      1020.0            0.0      2009           0.0    98144  47.5944 -122.299         1020.0      2007.0  2014-06-23  402101.0  Not Renovated    Non-Waterfront      Mid (6-8)\n",
      "21595   291310100       3.0       2.50       1600.0    2388.0     2.0         0.0   0.0          3      8      1600.0            0.0      2004           0.0    98027  47.5345 -122.069         1410.0      1287.0  2015-01-16  400000.0  Not Renovated    Non-Waterfront      High (8+)\n",
      "21596  1523300157       2.0       0.75       1020.0    1076.0     2.0         0.0   0.0          3      7      1020.0            0.0      2008           0.0    98144  47.5941 -122.299         1020.0      1357.0  2014-10-15  325000.0  Not Renovated    Non-Waterfront      Mid (6-8)\n"
     ]
    }
   ],
   "source": [
    "# Show the first 5 rows\n",
    "print(df_houses.head().to_string())\n",
    "\n",
    "# Show the last 5 rows\n",
    "print(df_houses.tail().to_string())"
   ]
  },
  {
   "cell_type": "code",
   "execution_count": 12,
   "id": "34d7cd7c",
   "metadata": {},
   "outputs": [
    {
     "data": {
      "text/html": [
       "<div>\n",
       "<style scoped>\n",
       "    .dataframe tbody tr th:only-of-type {\n",
       "        vertical-align: middle;\n",
       "    }\n",
       "\n",
       "    .dataframe tbody tr th {\n",
       "        vertical-align: top;\n",
       "    }\n",
       "\n",
       "    .dataframe thead th {\n",
       "        text-align: right;\n",
       "    }\n",
       "</style>\n",
       "<table border=\"1\" class=\"dataframe\">\n",
       "  <thead>\n",
       "    <tr style=\"text-align: right;\">\n",
       "      <th></th>\n",
       "      <th>Unnamed: 0</th>\n",
       "      <th>id</th>\n",
       "      <th>bedrooms</th>\n",
       "      <th>bathrooms</th>\n",
       "      <th>sqft_living</th>\n",
       "      <th>sqft_lot</th>\n",
       "      <th>floors</th>\n",
       "      <th>waterfront</th>\n",
       "      <th>view</th>\n",
       "      <th>condition</th>\n",
       "      <th>...</th>\n",
       "      <th>zipcode</th>\n",
       "      <th>lat</th>\n",
       "      <th>long</th>\n",
       "      <th>sqft_living15</th>\n",
       "      <th>sqft_lot15</th>\n",
       "      <th>date</th>\n",
       "      <th>price</th>\n",
       "      <th>renovated</th>\n",
       "      <th>waterfront_status</th>\n",
       "      <th>grade_category</th>\n",
       "    </tr>\n",
       "  </thead>\n",
       "  <tbody>\n",
       "    <tr>\n",
       "      <th>0</th>\n",
       "      <td>0</td>\n",
       "      <td>7129300520</td>\n",
       "      <td>3.0</td>\n",
       "      <td>1.00</td>\n",
       "      <td>1180.0</td>\n",
       "      <td>5650.0</td>\n",
       "      <td>1.0</td>\n",
       "      <td>0.0</td>\n",
       "      <td>0.0</td>\n",
       "      <td>3</td>\n",
       "      <td>...</td>\n",
       "      <td>98178</td>\n",
       "      <td>47.5112</td>\n",
       "      <td>-122.257</td>\n",
       "      <td>1340.0</td>\n",
       "      <td>5650.0</td>\n",
       "      <td>2014-10-13</td>\n",
       "      <td>221900.0</td>\n",
       "      <td>Not Renovated</td>\n",
       "      <td>Non-Waterfront</td>\n",
       "      <td>Mid (6-8)</td>\n",
       "    </tr>\n",
       "    <tr>\n",
       "      <th>1</th>\n",
       "      <td>1</td>\n",
       "      <td>6414100192</td>\n",
       "      <td>3.0</td>\n",
       "      <td>2.25</td>\n",
       "      <td>2570.0</td>\n",
       "      <td>7242.0</td>\n",
       "      <td>2.0</td>\n",
       "      <td>0.0</td>\n",
       "      <td>0.0</td>\n",
       "      <td>3</td>\n",
       "      <td>...</td>\n",
       "      <td>98125</td>\n",
       "      <td>47.7210</td>\n",
       "      <td>-122.319</td>\n",
       "      <td>1690.0</td>\n",
       "      <td>7639.0</td>\n",
       "      <td>2014-12-09</td>\n",
       "      <td>538000.0</td>\n",
       "      <td>Renovated</td>\n",
       "      <td>Non-Waterfront</td>\n",
       "      <td>Mid (6-8)</td>\n",
       "    </tr>\n",
       "    <tr>\n",
       "      <th>2</th>\n",
       "      <td>2</td>\n",
       "      <td>5631500400</td>\n",
       "      <td>2.0</td>\n",
       "      <td>1.00</td>\n",
       "      <td>770.0</td>\n",
       "      <td>10000.0</td>\n",
       "      <td>1.0</td>\n",
       "      <td>0.0</td>\n",
       "      <td>0.0</td>\n",
       "      <td>3</td>\n",
       "      <td>...</td>\n",
       "      <td>98028</td>\n",
       "      <td>47.7379</td>\n",
       "      <td>-122.233</td>\n",
       "      <td>2720.0</td>\n",
       "      <td>8062.0</td>\n",
       "      <td>2015-02-25</td>\n",
       "      <td>180000.0</td>\n",
       "      <td>Renovated</td>\n",
       "      <td>Non-Waterfront</td>\n",
       "      <td>Mid (6-8)</td>\n",
       "    </tr>\n",
       "    <tr>\n",
       "      <th>3</th>\n",
       "      <td>3</td>\n",
       "      <td>2487200875</td>\n",
       "      <td>4.0</td>\n",
       "      <td>3.00</td>\n",
       "      <td>1960.0</td>\n",
       "      <td>5000.0</td>\n",
       "      <td>1.0</td>\n",
       "      <td>0.0</td>\n",
       "      <td>0.0</td>\n",
       "      <td>5</td>\n",
       "      <td>...</td>\n",
       "      <td>98136</td>\n",
       "      <td>47.5208</td>\n",
       "      <td>-122.393</td>\n",
       "      <td>1360.0</td>\n",
       "      <td>5000.0</td>\n",
       "      <td>2014-12-09</td>\n",
       "      <td>604000.0</td>\n",
       "      <td>Not Renovated</td>\n",
       "      <td>Non-Waterfront</td>\n",
       "      <td>Mid (6-8)</td>\n",
       "    </tr>\n",
       "    <tr>\n",
       "      <th>4</th>\n",
       "      <td>4</td>\n",
       "      <td>1954400510</td>\n",
       "      <td>3.0</td>\n",
       "      <td>2.00</td>\n",
       "      <td>1680.0</td>\n",
       "      <td>8080.0</td>\n",
       "      <td>1.0</td>\n",
       "      <td>0.0</td>\n",
       "      <td>0.0</td>\n",
       "      <td>3</td>\n",
       "      <td>...</td>\n",
       "      <td>98074</td>\n",
       "      <td>47.6168</td>\n",
       "      <td>-122.045</td>\n",
       "      <td>1800.0</td>\n",
       "      <td>7503.0</td>\n",
       "      <td>2015-02-18</td>\n",
       "      <td>510000.0</td>\n",
       "      <td>Not Renovated</td>\n",
       "      <td>Non-Waterfront</td>\n",
       "      <td>High (8+)</td>\n",
       "    </tr>\n",
       "    <tr>\n",
       "      <th>...</th>\n",
       "      <td>...</td>\n",
       "      <td>...</td>\n",
       "      <td>...</td>\n",
       "      <td>...</td>\n",
       "      <td>...</td>\n",
       "      <td>...</td>\n",
       "      <td>...</td>\n",
       "      <td>...</td>\n",
       "      <td>...</td>\n",
       "      <td>...</td>\n",
       "      <td>...</td>\n",
       "      <td>...</td>\n",
       "      <td>...</td>\n",
       "      <td>...</td>\n",
       "      <td>...</td>\n",
       "      <td>...</td>\n",
       "      <td>...</td>\n",
       "      <td>...</td>\n",
       "      <td>...</td>\n",
       "      <td>...</td>\n",
       "      <td>...</td>\n",
       "    </tr>\n",
       "    <tr>\n",
       "      <th>21592</th>\n",
       "      <td>21592</td>\n",
       "      <td>263000018</td>\n",
       "      <td>3.0</td>\n",
       "      <td>2.50</td>\n",
       "      <td>1530.0</td>\n",
       "      <td>1131.0</td>\n",
       "      <td>3.0</td>\n",
       "      <td>0.0</td>\n",
       "      <td>0.0</td>\n",
       "      <td>3</td>\n",
       "      <td>...</td>\n",
       "      <td>98103</td>\n",
       "      <td>47.6993</td>\n",
       "      <td>-122.346</td>\n",
       "      <td>1530.0</td>\n",
       "      <td>1509.0</td>\n",
       "      <td>2014-05-21</td>\n",
       "      <td>360000.0</td>\n",
       "      <td>Not Renovated</td>\n",
       "      <td>Non-Waterfront</td>\n",
       "      <td>High (8+)</td>\n",
       "    </tr>\n",
       "    <tr>\n",
       "      <th>21593</th>\n",
       "      <td>21593</td>\n",
       "      <td>6600060120</td>\n",
       "      <td>4.0</td>\n",
       "      <td>2.50</td>\n",
       "      <td>2310.0</td>\n",
       "      <td>5813.0</td>\n",
       "      <td>2.0</td>\n",
       "      <td>0.0</td>\n",
       "      <td>0.0</td>\n",
       "      <td>3</td>\n",
       "      <td>...</td>\n",
       "      <td>98146</td>\n",
       "      <td>47.5107</td>\n",
       "      <td>-122.362</td>\n",
       "      <td>1830.0</td>\n",
       "      <td>7200.0</td>\n",
       "      <td>2015-02-23</td>\n",
       "      <td>400000.0</td>\n",
       "      <td>Not Renovated</td>\n",
       "      <td>Non-Waterfront</td>\n",
       "      <td>High (8+)</td>\n",
       "    </tr>\n",
       "    <tr>\n",
       "      <th>21594</th>\n",
       "      <td>21594</td>\n",
       "      <td>1523300141</td>\n",
       "      <td>2.0</td>\n",
       "      <td>0.75</td>\n",
       "      <td>1020.0</td>\n",
       "      <td>1350.0</td>\n",
       "      <td>2.0</td>\n",
       "      <td>0.0</td>\n",
       "      <td>0.0</td>\n",
       "      <td>3</td>\n",
       "      <td>...</td>\n",
       "      <td>98144</td>\n",
       "      <td>47.5944</td>\n",
       "      <td>-122.299</td>\n",
       "      <td>1020.0</td>\n",
       "      <td>2007.0</td>\n",
       "      <td>2014-06-23</td>\n",
       "      <td>402101.0</td>\n",
       "      <td>Not Renovated</td>\n",
       "      <td>Non-Waterfront</td>\n",
       "      <td>Mid (6-8)</td>\n",
       "    </tr>\n",
       "    <tr>\n",
       "      <th>21595</th>\n",
       "      <td>21595</td>\n",
       "      <td>291310100</td>\n",
       "      <td>3.0</td>\n",
       "      <td>2.50</td>\n",
       "      <td>1600.0</td>\n",
       "      <td>2388.0</td>\n",
       "      <td>2.0</td>\n",
       "      <td>0.0</td>\n",
       "      <td>0.0</td>\n",
       "      <td>3</td>\n",
       "      <td>...</td>\n",
       "      <td>98027</td>\n",
       "      <td>47.5345</td>\n",
       "      <td>-122.069</td>\n",
       "      <td>1410.0</td>\n",
       "      <td>1287.0</td>\n",
       "      <td>2015-01-16</td>\n",
       "      <td>400000.0</td>\n",
       "      <td>Not Renovated</td>\n",
       "      <td>Non-Waterfront</td>\n",
       "      <td>High (8+)</td>\n",
       "    </tr>\n",
       "    <tr>\n",
       "      <th>21596</th>\n",
       "      <td>21596</td>\n",
       "      <td>1523300157</td>\n",
       "      <td>2.0</td>\n",
       "      <td>0.75</td>\n",
       "      <td>1020.0</td>\n",
       "      <td>1076.0</td>\n",
       "      <td>2.0</td>\n",
       "      <td>0.0</td>\n",
       "      <td>0.0</td>\n",
       "      <td>3</td>\n",
       "      <td>...</td>\n",
       "      <td>98144</td>\n",
       "      <td>47.5941</td>\n",
       "      <td>-122.299</td>\n",
       "      <td>1020.0</td>\n",
       "      <td>1357.0</td>\n",
       "      <td>2014-10-15</td>\n",
       "      <td>325000.0</td>\n",
       "      <td>Not Renovated</td>\n",
       "      <td>Non-Waterfront</td>\n",
       "      <td>Mid (6-8)</td>\n",
       "    </tr>\n",
       "  </tbody>\n",
       "</table>\n",
       "<p>21597 rows × 25 columns</p>\n",
       "</div>"
      ],
      "text/plain": [
       "       Unnamed: 0          id  bedrooms  bathrooms  sqft_living  sqft_lot  \\\n",
       "0               0  7129300520       3.0       1.00       1180.0    5650.0   \n",
       "1               1  6414100192       3.0       2.25       2570.0    7242.0   \n",
       "2               2  5631500400       2.0       1.00        770.0   10000.0   \n",
       "3               3  2487200875       4.0       3.00       1960.0    5000.0   \n",
       "4               4  1954400510       3.0       2.00       1680.0    8080.0   \n",
       "...           ...         ...       ...        ...          ...       ...   \n",
       "21592       21592   263000018       3.0       2.50       1530.0    1131.0   \n",
       "21593       21593  6600060120       4.0       2.50       2310.0    5813.0   \n",
       "21594       21594  1523300141       2.0       0.75       1020.0    1350.0   \n",
       "21595       21595   291310100       3.0       2.50       1600.0    2388.0   \n",
       "21596       21596  1523300157       2.0       0.75       1020.0    1076.0   \n",
       "\n",
       "       floors  waterfront  view  condition  ...  zipcode      lat     long  \\\n",
       "0         1.0         0.0   0.0          3  ...    98178  47.5112 -122.257   \n",
       "1         2.0         0.0   0.0          3  ...    98125  47.7210 -122.319   \n",
       "2         1.0         0.0   0.0          3  ...    98028  47.7379 -122.233   \n",
       "3         1.0         0.0   0.0          5  ...    98136  47.5208 -122.393   \n",
       "4         1.0         0.0   0.0          3  ...    98074  47.6168 -122.045   \n",
       "...       ...         ...   ...        ...  ...      ...      ...      ...   \n",
       "21592     3.0         0.0   0.0          3  ...    98103  47.6993 -122.346   \n",
       "21593     2.0         0.0   0.0          3  ...    98146  47.5107 -122.362   \n",
       "21594     2.0         0.0   0.0          3  ...    98144  47.5944 -122.299   \n",
       "21595     2.0         0.0   0.0          3  ...    98027  47.5345 -122.069   \n",
       "21596     2.0         0.0   0.0          3  ...    98144  47.5941 -122.299   \n",
       "\n",
       "       sqft_living15  sqft_lot15        date     price      renovated  \\\n",
       "0             1340.0      5650.0  2014-10-13  221900.0  Not Renovated   \n",
       "1             1690.0      7639.0  2014-12-09  538000.0      Renovated   \n",
       "2             2720.0      8062.0  2015-02-25  180000.0      Renovated   \n",
       "3             1360.0      5000.0  2014-12-09  604000.0  Not Renovated   \n",
       "4             1800.0      7503.0  2015-02-18  510000.0  Not Renovated   \n",
       "...              ...         ...         ...       ...            ...   \n",
       "21592         1530.0      1509.0  2014-05-21  360000.0  Not Renovated   \n",
       "21593         1830.0      7200.0  2015-02-23  400000.0  Not Renovated   \n",
       "21594         1020.0      2007.0  2014-06-23  402101.0  Not Renovated   \n",
       "21595         1410.0      1287.0  2015-01-16  400000.0  Not Renovated   \n",
       "21596         1020.0      1357.0  2014-10-15  325000.0  Not Renovated   \n",
       "\n",
       "       waterfront_status  grade_category  \n",
       "0         Non-Waterfront       Mid (6-8)  \n",
       "1         Non-Waterfront       Mid (6-8)  \n",
       "2         Non-Waterfront       Mid (6-8)  \n",
       "3         Non-Waterfront       Mid (6-8)  \n",
       "4         Non-Waterfront       High (8+)  \n",
       "...                  ...             ...  \n",
       "21592     Non-Waterfront       High (8+)  \n",
       "21593     Non-Waterfront       High (8+)  \n",
       "21594     Non-Waterfront       Mid (6-8)  \n",
       "21595     Non-Waterfront       High (8+)  \n",
       "21596     Non-Waterfront       Mid (6-8)  \n",
       "\n",
       "[21597 rows x 25 columns]"
      ]
     },
     "execution_count": 12,
     "metadata": {},
     "output_type": "execute_result"
    }
   ],
   "source": [
    "df_houses.to_csv(\"../data/king_country_house_data_index_false_filter.csv\")\n",
    "df_houses_filter = pd.read_csv(\"../data/king_country_house_data_index_false_filter.csv\")\n",
    "df_houses_filter"
   ]
  },
  {
   "cell_type": "markdown",
   "id": "5fac91df",
   "metadata": {},
   "source": [
    "<h3 style='color:seagreen'> Research Questions 1 </h3>"
   ]
  },
  {
   "cell_type": "markdown",
   "id": "232103d0",
   "metadata": {},
   "source": [
    " Average Sale Price by Renovation Status:\n",
    "\n",
    "You created a bar chart comparing average sale prices between:\n",
    "\n",
    "Renovated houses\n",
    "\n",
    "Not Renovated houses"
   ]
  },
  {
   "cell_type": "markdown",
   "id": "c312e0ca",
   "metadata": {},
   "source": [
    "<h3 style='color:seagreen'>compare renovated houses vs not renovated houses"
   ]
  },
  {
   "cell_type": "code",
   "execution_count": 13,
   "id": "93900c35",
   "metadata": {},
   "outputs": [
    {
     "name": "stdout",
     "output_type": "stream",
     "text": [
      "713202.870093458\n",
      "531283.579042237\n"
     ]
    },
    {
     "data": {
      "image/png": "[encoded data removed]",
      "text/plain": [
       "<Figure size 640x480 with 1 Axes>"
      ]
     },
     "metadata": {},
     "output_type": "display_data"
    }
   ],
   "source": [
    "# Group by 'renovated' and calculate mean 'price' for each group\n",
    "mean_prices = df_houses_filter.groupby('renovated')['price'].mean().reset_index()\n",
    "\n",
    "print(df_houses_filter[df_houses['renovated'] == 'Renovated']['price'].mean())\n",
    "print(df_houses_filter[df_houses['renovated'] == 'Not Renovated']['price'].mean())\n",
    "\n",
    "# Plot the barplot\n",
    "sns.barplot(data=mean_prices, x='renovated', y='price')\n",
    "\n",
    "# Add labels and title\n",
    "plt.title('Average Sale Price: Renovated vs Not Renovated Houses')\n",
    "plt.ylabel('Average Sale Price ($)')\n",
    "plt.xlabel('Renovation Status')\n",
    "\n",
    "# Show plot\n",
    "plt.show()"
   ]
  },
  {
   "cell_type": "markdown",
   "id": "3744499e",
   "metadata": {},
   "source": [
    "<h3 style='color:seagreen'>📌 Findings:</h3>\n",
    "\n",
    "Renovated houses have a notably higher average price.\n",
    "\n",
    "This supports the initial idea that renovations do increase market value."
   ]
  },
  {
   "cell_type": "markdown",
   "id": "51581d1c",
   "metadata": {},
   "source": [
    "<h3 style='color:seagreen'>Research Questions 2</h3>"
   ]
  },
  {
   "cell_type": "markdown",
   "id": "82922c9d",
   "metadata": {},
   "source": [
    "Average Sale Price by Grade Category:\n",
    "\n",
    "You categorized grades into:\n",
    "\n",
    "Low (1–5)\n",
    "\n",
    "Mid (6–8)\n",
    "\n",
    "High (8+)"
   ]
  },
  {
   "cell_type": "code",
   "execution_count": 14,
   "id": "05cce68d",
   "metadata": {},
   "outputs": [
    {
     "data": {
      "image/png": "[encoded data removed]",
      "text/plain": [
       "<Figure size 1000x600 with 1 Axes>"
      ]
     },
     "metadata": {},
     "output_type": "display_data"
    }
   ],
   "source": [
    "# Assuming df_houses is your dataframe with the relevant data\n",
    "\n",
    "# Plot\n",
    "plt.figure(figsize=(10, 6))\n",
    "sns.barplot(data=df_houses_filter, x='grade_category', y='price', order =grade_order)\n",
    "plt.title('Average Sale Price by Grade Category')\n",
    "plt.ylabel('Average Price ($)')\n",
    "plt.xlabel('Grade Category')\n",
    "plt.xticks(rotation=0)\n",
    "plt.tight_layout()\n",
    "plt.show()"
   ]
  },
  {
   "cell_type": "markdown",
   "id": "3b634d50",
   "metadata": {},
   "source": [
    "<h3 style='color:seagreen'> 📌 Findings:</h3>\n",
    "A clear positive relationship between house grade and price.\n",
    "\n",
    "high-grade homes tend to sell for more than low-grade renovated ones."
   ]
  },
  {
   "cell_type": "markdown",
   "id": "94da8735",
   "metadata": {},
   "source": [
    "<h3 style='color:seagreen'>Research Questions 3</h3>"
   ]
  },
  {
   "cell_type": "markdown",
   "id": "a6d240e8",
   "metadata": {},
   "source": [
    "Average Sale Price by Renovation + Grade Category (Grouped Bar Chart):\n",
    "\n",
    "This combined chart is the most insightful:\n",
    "\n",
    "For High (8+) grade houses, renovated ones sell for the highest prices overall.\n",
    "\n",
    "In the Mid (6–8) range, renovation still results in a visible price increase.\n",
    "\n",
    "For Low (1–5) grades, the effect of renovation is smaller or inconsistent (possibly because buyers may not value renovations on lower-grade homes as highly)."
   ]
  },
  {
   "cell_type": "code",
   "execution_count": 15,
   "id": "65e03ca6",
   "metadata": {},
   "outputs": [
    {
     "name": "stderr",
     "output_type": "stream",
     "text": [
      "/tmp/ipykernel_710295/2852839723.py:14: FutureWarning: The default of observed=False is deprecated and will be changed to True in a future version of pandas. Pass observed=False to retain current behavior or observed=True to adopt the future default and silence this warning.\n",
      "  grouped = df_houses_filter.groupby(['grade_category', 'renovated'])['price'].mean().reset_index()\n"
     ]
    },
    {
     "data": {
      "image/png": "[encoded data removed]",
      "text/plain": [
       "<Figure size 1000x600 with 1 Axes>"
      ]
     },
     "metadata": {},
     "output_type": "display_data"
    }
   ],
   "source": [
    "import pandas as pd\n",
    "import matplotlib.pyplot as plt\n",
    "import seaborn as sns\n",
    "\n",
    "# Categorize grade\n",
    "df_houses_filter['grade_category'] = df_houses_filter['grade'].apply(\n",
    "    lambda g: 'High (8+)' if g >= 8 else 'Mid (6-8)' if g >= 6 else 'Low (1-5)'\n",
    ")\n",
    "\n",
    "# Convert to categorical type with desired order\n",
    "df_houses_filter['grade_category'] = pd.Categorical(df_houses_filter['grade_category'], categories=grade_order, ordered=True)\n",
    "\n",
    "# Group and calculate average price\n",
    "grouped = df_houses_filter.groupby(['grade_category', 'renovated'])['price'].mean().reset_index()\n",
    "\n",
    "# Plot\n",
    "plt.figure(figsize=(10, 6))\n",
    "sns.barplot(\n",
    "    data=grouped,\n",
    "    x='grade_category',\n",
    "    y='price',\n",
    "    hue='renovated',\n",
    "    order=grade_order\n",
    ")\n",
    "plt.title('Average Sale Price by Grade Level and Renovation Status')\n",
    "plt.ylabel('Average Price ($)')\n",
    "plt.xlabel('Grade Category')\n",
    "plt.xticks(rotation=0)\n",
    "plt.tight_layout()\n",
    "plt.show()\n"
   ]
  },
  {
   "cell_type": "markdown",
   "id": "d87471bc",
   "metadata": {},
   "source": [
    "<h3 style='color:seagreen'> 📌 Findings:</h3>\n",
    "\n",
    "Hypothesis Validated: Renovated homes, especially those with higher grades (8+), do sell for significantly higher prices.\n",
    "\n",
    "Grade Amplifies Renovation Value: Renovation on already high-grade homes magnifies their value in the market."
   ]
  },
  {
   "cell_type": "markdown",
   "id": "a5578aa0",
   "metadata": {},
   "source": [
    "<h3 style='color:seagreen'>Distribution of House Sale Prices"
   ]
  },
  {
   "cell_type": "code",
   "execution_count": 16,
   "id": "5207c2fe",
   "metadata": {},
   "outputs": [
    {
     "data": {
      "image/png": "[encoded data removed]",
      "text/plain": [
       "<Figure size 1000x600 with 1 Axes>"
      ]
     },
     "metadata": {},
     "output_type": "display_data"
    }
   ],
   "source": [
    "plt.figure(figsize=(10, 6))\n",
    "sns.histplot(df_houses_filter['price'], kde=True, bins=50)\n",
    "plt.title('Distribution of House Sale Prices')\n",
    "plt.xlabel('Sale Price ($)')\n",
    "plt.ylabel('Count')\n",
    "plt.show()\n"
   ]
  },
  {
   "cell_type": "markdown",
   "id": "2e2a1c83",
   "metadata": {},
   "source": [
    "<h3 style='color:seagreen'> T-test "
   ]
  },
  {
   "cell_type": "code",
   "execution_count": 17,
   "id": "c6c88cb7",
   "metadata": {},
   "outputs": [
    {
     "name": "stdout",
     "output_type": "stream",
     "text": [
      "1        13.195614\n",
      "2        12.100712\n",
      "35       13.453105\n",
      "95       13.715690\n",
      "103      13.901688\n",
      "           ...    \n",
      "20428    13.122387\n",
      "20429    12.812436\n",
      "20431    12.785488\n",
      "20432    13.287878\n",
      "20946    11.608236\n",
      "Name: log_price, Length: 1070, dtype: float64 0        12.309982\n",
      "3        13.311329\n",
      "4        13.142166\n",
      "5        14.022525\n",
      "6        12.458775\n",
      "           ...    \n",
      "21592    12.793859\n",
      "21593    12.899220\n",
      "21594    12.904459\n",
      "21595    12.899220\n",
      "21596    12.691580\n",
      "Name: log_price, Length: 20527, dtype: float64\n",
      "T-test Results:\n",
      "T-statistic = 11.898, p-value = 0.00000\n"
     ]
    }
   ],
   "source": [
    "from scipy.stats import ttest_ind\n",
    "import numpy as np\n",
    "\n",
    "# Create log_price if not already done\n",
    "df_houses_filter['log_price'] = np.log(df_houses_filter['price'])\n",
    "\n",
    "# Split into two groups\n",
    "renovated = df_houses_filter[df_houses_filter['renovated'] == 'Renovated']['log_price']\n",
    "not_renovated = df_houses_filter[df_houses_filter['renovated'] == 'Not Renovated']['log_price']\n",
    "\n",
    "print(renovated,not_renovated)\n",
    "\n",
    "# Perform independent T-test\n",
    "t_stat, p_val = ttest_ind(renovated, not_renovated, equal_var=False)\n",
    "\n",
    "print(f\"T-test Results:\\nT-statistic = {t_stat:.3f}, p-value = {p_val:.5f}\")\n"
   ]
  },
  {
   "cell_type": "code",
   "execution_count": 18,
   "id": "392c9c33",
   "metadata": {},
   "outputs": [
    {
     "name": "stdout",
     "output_type": "stream",
     "text": [
      "                                     sum_sq       df            F  \\\n",
      "C(renovated)                      45.539239      1.0   242.509928   \n",
      "C(grade_category)               1865.772651      2.0  4967.895823   \n",
      "C(renovated):C(grade_category)    13.748575      2.0    36.607615   \n",
      "Residual                        4054.422510  21591.0          NaN   \n",
      "\n",
      "                                      PR(>F)  \n",
      "C(renovated)                    2.204985e-54  \n",
      "C(grade_category)               0.000000e+00  \n",
      "C(renovated):C(grade_category)  1.344033e-16  \n",
      "Residual                                 NaN  \n"
     ]
    }
   ],
   "source": [
    "import statsmodels.api as sm\n",
    "from statsmodels.formula.api import ols\n",
    "\n",
    "# Build model\n",
    "model = ols('log_price ~ C(renovated) + C(grade_category) + C(renovated):C(grade_category)', data=df_houses_filter).fit()\n",
    "anova_table = sm.stats.anova_lm(model, typ=2)\n",
    "\n",
    "print(anova_table)\n"
   ]
  },
  {
   "cell_type": "code",
   "execution_count": 19,
   "id": "2d1c9bff",
   "metadata": {},
   "outputs": [
    {
     "name": "stdout",
     "output_type": "stream",
     "text": [
      "Shapiro-Wilk Test Statistic=0.992, p=0.000\n"
     ]
    },
    {
     "data": {
      "image/png": "[encoded data removed]",
      "text/plain": [
       "<Figure size 600x600 with 1 Axes>"
      ]
     },
     "metadata": {},
     "output_type": "display_data"
    }
   ],
   "source": [
    "from scipy.stats import shapiro, probplot\n",
    "\n",
    "# Shapiro-Wilk test\n",
    "stat, p = shapiro(df_houses_filter['log_price'].sample(5000))  # sample to avoid memory issues\n",
    "print('Shapiro-Wilk Test Statistic=%.3f, p=%.3f' % (stat, p))\n",
    "\n",
    "# QQ Plot\n",
    "import scipy.stats as stats\n",
    "import matplotlib.pyplot as plt\n",
    "\n",
    "plt.figure(figsize=(6, 6))\n",
    "stats.probplot(df_houses_filter['log_price'], dist=\"norm\", plot=plt)\n",
    "plt.title('QQ Plot of Log-Transformed Sale Prices')\n",
    "plt.show()\n"
   ]
  },
  {
   "cell_type": "markdown",
   "id": "904b7650",
   "metadata": {},
   "source": [
    "📌 Summary:\n",
    "\n",
    "### 🔍 Hypothesis Test: Do Renovated Homes Sell for More?\n",
    "\n",
    "We conducted a Welch’s T-test to compare the mean log-transformed sale prices between renovated and unrenovated homes.\n",
    "\n",
    "**T-test Result:**\n",
    "- t-statistic = 11.898\n",
    "- p-value = 0.00000\n",
    "\n",
    "✅ Since p < 0.05, we reject the null hypothesis: **Renovated homes do sell for significantly more.**\n",
    "\n",
    "We also performed a two-way ANOVA to explore the interaction between renovation and grade level.\n",
    "\n",
    "**ANOVA Result:**\n",
    "- Renovation and Grade both significantly affect sale price.\n",
    "- The interaction term is significant → The impact of renovation depends on the house's grade level.\n"
   ]
  },
  {
   "cell_type": "markdown",
   "id": "164be5bc",
   "metadata": {},
   "source": [
    "Conclusion:\n",
    "\n",
    "Hypothesis Validated: Renovated homes, especially those with higher grades (8+), do sell for significantly higher prices.\n",
    "\n",
    "Grade Amplifies Renovation Value: Renovation on already high-grade homes magnifies their value in the market.\n",
    "\n",
    "Lower-Grade Renovations Yield Less ROI: For lower-grade homes, renovation does not boost price as much, which may affect profit margins."
   ]
  },
  {
   "cell_type": "markdown",
   "id": "ff0c3fd7",
   "metadata": {},
   "source": [
    "💡 Suggestions for Jennifer Montgomery:\n",
    "\n",
    "Target High-Grade Homes for Flip: Focus on already well-graded homes (8 or above). Renovating them appears to yield the best returns.\n",
    "\n",
    "Avoid Investing in Low-Grade Fixer-Uppers: Renovating low-grade homes may not raise the price significantly enough to justify the renovation costs.\n",
    "\n",
    "Use a Grade + Renovation Filter for Scouting: Implement filters that identify houses that:\n",
    "\n",
    "Have a grade of 8+\n",
    "\n",
    "Are already renovated or in good shape to renovate\n",
    "\n",
    "Leverage Regression for Deeper Insights: Build a regression model to quantify how much each unit increase in grade or renovation contributes to price, controlling for other features (like location, size, etc.).\n",
    "\n",
    "Consider Neighborhood Context: Look into whether high renovation premiums persist across different ZIP codes or neighborhoods — this can guide location-based strategies."
   ]
  }
 ],
 "metadata": {
  "kernelspec": {
   "display_name": ".venv",
   "language": "python",
   "name": "python3"
  },
  "language_info": {
   "codemirror_mode": {
    "name": "ipython",
    "version": 3
   },
   "file_extension": ".py",
   "mimetype": "text/x-python",
   "name": "python",
   "nbconvert_exporter": "python",
   "pygments_lexer": "ipython3",
   "version": "3.11.3"
  }
 },
 "nbformat": 4,
 "nbformat_minor": 5
}
